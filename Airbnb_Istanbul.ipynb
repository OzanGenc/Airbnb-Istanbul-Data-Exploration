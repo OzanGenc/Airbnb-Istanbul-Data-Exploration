{
  "nbformat": 4,
  "nbformat_minor": 0,
  "metadata": {
    "colab": {
      "name": "Airbnb_Istanbul.ipynb",
      "provenance": [],
      "collapsed_sections": []
    },
    "kernelspec": {
      "name": "python3",
      "display_name": "Python 3"
    }
  },
  "cells": [
    {
      "cell_type": "markdown",
      "metadata": {
        "id": "Qgy09MtA--Qz",
        "colab_type": "text"
      },
      "source": [
        "In this notebook, we will explore Airbnb dataset for Istanbul. Dataset is compiled by Airbnb on 28 April,2020."
      ]
    },
    {
      "cell_type": "code",
      "metadata": {
        "id": "hT3l_4PywWu4",
        "colab_type": "code",
        "colab": {
          "base_uri": "https://localhost:8080/",
          "height": 71
        },
        "outputId": "7f5f23e6-2486-4a34-d99d-9b3da035003a"
      },
      "source": [
        "import numpy as np\n",
        "from math import sqrt\n",
        "import pandas as pd\n",
        "import matplotlib.pyplot as plt\n",
        "import seaborn as sns\n",
        "from sklearn.model_selection import GroupShuffleSplit, RandomizedSearchCV\n",
        "from sklearn.ensemble import RandomForestRegressor\n",
        "from sklearn.linear_model import ElasticNet\n",
        "from sklearn.metrics import mean_squared_error"
      ],
      "execution_count": 103,
      "outputs": [
        {
          "output_type": "stream",
          "text": [
            "/usr/local/lib/python3.6/dist-packages/statsmodels/tools/_testing.py:19: FutureWarning: pandas.util.testing is deprecated. Use the functions in the public API at pandas.testing instead.\n",
            "  import pandas.util.testing as tm\n"
          ],
          "name": "stderr"
        }
      ]
    },
    {
      "cell_type": "code",
      "metadata": {
        "id": "C8IC87oOxBzM",
        "colab_type": "code",
        "outputId": "9482215f-b336-406b-f325-e71c734ac34e",
        "colab": {
          "base_uri": "https://localhost:8080/",
          "height": 71
        }
      },
      "source": [
        "#importing csv data to pandas dataframe\n",
        "df = pd.read_csv('listings.csv')"
      ],
      "execution_count": 2,
      "outputs": [
        {
          "output_type": "stream",
          "text": [
            "/usr/local/lib/python3.6/dist-packages/IPython/core/interactiveshell.py:2718: DtypeWarning: Columns (43,61,62,94) have mixed types.Specify dtype option on import or set low_memory=False.\n",
            "  interactivity=interactivity, compiler=compiler, result=result)\n"
          ],
          "name": "stderr"
        }
      ]
    },
    {
      "cell_type": "code",
      "metadata": {
        "id": "GUpH9J3Y81yW",
        "colab_type": "code",
        "colab": {}
      },
      "source": [
        "#these are the columns that we will use in our analysis\n",
        "useful_columns_list = ['id','host_id','host_is_superhost', 'neighbourhood_cleansed','zipcode',\n",
        "               'bathrooms','bedrooms','bed_type','amenities','square_feet',\n",
        "               'price','number_of_reviews', 'review_scores_rating', 'review_scores_location']\n",
        "\n"
      ],
      "execution_count": 0,
      "outputs": []
    },
    {
      "cell_type": "code",
      "metadata": {
        "id": "ut-LL85kDlDL",
        "colab_type": "code",
        "colab": {}
      },
      "source": [
        "df = df[useful_columns_list]"
      ],
      "execution_count": 0,
      "outputs": []
    },
    {
      "cell_type": "code",
      "metadata": {
        "id": "wNeEqv6u6bUf",
        "colab_type": "code",
        "outputId": "4fd53906-3b39-4c87-e181-25e4fbef5706",
        "colab": {
          "base_uri": "https://localhost:8080/",
          "height": 374
        }
      },
      "source": [
        "#getting basic information about the dataset\n",
        "df.info()"
      ],
      "execution_count": 5,
      "outputs": [
        {
          "output_type": "stream",
          "text": [
            "<class 'pandas.core.frame.DataFrame'>\n",
            "RangeIndex: 23438 entries, 0 to 23437\n",
            "Data columns (total 14 columns):\n",
            " #   Column                  Non-Null Count  Dtype  \n",
            "---  ------                  --------------  -----  \n",
            " 0   id                      23438 non-null  int64  \n",
            " 1   host_id                 23438 non-null  int64  \n",
            " 2   host_is_superhost       23435 non-null  object \n",
            " 3   neighbourhood_cleansed  23438 non-null  object \n",
            " 4   zipcode                 21037 non-null  object \n",
            " 5   bathrooms               23357 non-null  float64\n",
            " 6   bedrooms                23294 non-null  float64\n",
            " 7   bed_type                23438 non-null  object \n",
            " 8   amenities               23438 non-null  object \n",
            " 9   square_feet             234 non-null    float64\n",
            " 10  price                   23438 non-null  object \n",
            " 11  number_of_reviews       23438 non-null  int64  \n",
            " 12  review_scores_rating    10997 non-null  float64\n",
            " 13  review_scores_location  10984 non-null  float64\n",
            "dtypes: float64(5), int64(3), object(6)\n",
            "memory usage: 2.5+ MB\n"
          ],
          "name": "stdout"
        }
      ]
    },
    {
      "cell_type": "code",
      "metadata": {
        "id": "a20naDkF7vZX",
        "colab_type": "code",
        "outputId": "3cae8a6f-5123-42fc-94f6-0ae452780bab",
        "colab": {
          "base_uri": "https://localhost:8080/",
          "height": 343
        }
      },
      "source": [
        "#checking some samples\n",
        "df.head()"
      ],
      "execution_count": 6,
      "outputs": [
        {
          "output_type": "execute_result",
          "data": {
            "text/html": [
              "<div>\n",
              "<style scoped>\n",
              "    .dataframe tbody tr th:only-of-type {\n",
              "        vertical-align: middle;\n",
              "    }\n",
              "\n",
              "    .dataframe tbody tr th {\n",
              "        vertical-align: top;\n",
              "    }\n",
              "\n",
              "    .dataframe thead th {\n",
              "        text-align: right;\n",
              "    }\n",
              "</style>\n",
              "<table border=\"1\" class=\"dataframe\">\n",
              "  <thead>\n",
              "    <tr style=\"text-align: right;\">\n",
              "      <th></th>\n",
              "      <th>id</th>\n",
              "      <th>host_id</th>\n",
              "      <th>host_is_superhost</th>\n",
              "      <th>neighbourhood_cleansed</th>\n",
              "      <th>zipcode</th>\n",
              "      <th>bathrooms</th>\n",
              "      <th>bedrooms</th>\n",
              "      <th>bed_type</th>\n",
              "      <th>amenities</th>\n",
              "      <th>square_feet</th>\n",
              "      <th>price</th>\n",
              "      <th>number_of_reviews</th>\n",
              "      <th>review_scores_rating</th>\n",
              "      <th>review_scores_location</th>\n",
              "    </tr>\n",
              "  </thead>\n",
              "  <tbody>\n",
              "    <tr>\n",
              "      <th>0</th>\n",
              "      <td>4826</td>\n",
              "      <td>6603</td>\n",
              "      <td>f</td>\n",
              "      <td>Uskudar</td>\n",
              "      <td>34684</td>\n",
              "      <td>1.0</td>\n",
              "      <td>0.0</td>\n",
              "      <td>Real Bed</td>\n",
              "      <td>{TV,\"Cable TV\",Internet,Wifi,Kitchen,\"Smoking ...</td>\n",
              "      <td>700.0</td>\n",
              "      <td>$734.00</td>\n",
              "      <td>1</td>\n",
              "      <td>100.0</td>\n",
              "      <td>NaN</td>\n",
              "    </tr>\n",
              "    <tr>\n",
              "      <th>1</th>\n",
              "      <td>20815</td>\n",
              "      <td>78838</td>\n",
              "      <td>f</td>\n",
              "      <td>Besiktas</td>\n",
              "      <td>34345</td>\n",
              "      <td>1.0</td>\n",
              "      <td>2.0</td>\n",
              "      <td>Real Bed</td>\n",
              "      <td>{TV,\"Cable TV\",\"Air conditioning\",Kitchen,\"Fre...</td>\n",
              "      <td>NaN</td>\n",
              "      <td>$832.00</td>\n",
              "      <td>41</td>\n",
              "      <td>90.0</td>\n",
              "      <td>10.0</td>\n",
              "    </tr>\n",
              "    <tr>\n",
              "      <th>2</th>\n",
              "      <td>27271</td>\n",
              "      <td>117026</td>\n",
              "      <td>f</td>\n",
              "      <td>Beyoglu</td>\n",
              "      <td>34433</td>\n",
              "      <td>1.0</td>\n",
              "      <td>1.0</td>\n",
              "      <td>Real Bed</td>\n",
              "      <td>{TV,Internet,Wifi,Kitchen,\"Paid parking off pr...</td>\n",
              "      <td>NaN</td>\n",
              "      <td>$230.00</td>\n",
              "      <td>13</td>\n",
              "      <td>98.0</td>\n",
              "      <td>10.0</td>\n",
              "    </tr>\n",
              "    <tr>\n",
              "      <th>3</th>\n",
              "      <td>28277</td>\n",
              "      <td>121607</td>\n",
              "      <td>f</td>\n",
              "      <td>Sisli</td>\n",
              "      <td>34373</td>\n",
              "      <td>1.0</td>\n",
              "      <td>1.0</td>\n",
              "      <td>Real Bed</td>\n",
              "      <td>{TV,Internet,Wifi,\"Air conditioning\",Kitchen,E...</td>\n",
              "      <td>753.0</td>\n",
              "      <td>$747.00</td>\n",
              "      <td>0</td>\n",
              "      <td>NaN</td>\n",
              "      <td>NaN</td>\n",
              "    </tr>\n",
              "    <tr>\n",
              "      <th>4</th>\n",
              "      <td>28318</td>\n",
              "      <td>121721</td>\n",
              "      <td>f</td>\n",
              "      <td>Sariyer</td>\n",
              "      <td>34398</td>\n",
              "      <td>1.0</td>\n",
              "      <td>2.0</td>\n",
              "      <td>Real Bed</td>\n",
              "      <td>{\"Cable TV\",Internet,Wifi,Kitchen,\"Free parkin...</td>\n",
              "      <td>700.0</td>\n",
              "      <td>$837.00</td>\n",
              "      <td>0</td>\n",
              "      <td>NaN</td>\n",
              "      <td>NaN</td>\n",
              "    </tr>\n",
              "  </tbody>\n",
              "</table>\n",
              "</div>"
            ],
            "text/plain": [
              "      id  host_id  ... review_scores_rating review_scores_location\n",
              "0   4826     6603  ...                100.0                    NaN\n",
              "1  20815    78838  ...                 90.0                   10.0\n",
              "2  27271   117026  ...                 98.0                   10.0\n",
              "3  28277   121607  ...                  NaN                    NaN\n",
              "4  28318   121721  ...                  NaN                    NaN\n",
              "\n",
              "[5 rows x 14 columns]"
            ]
          },
          "metadata": {
            "tags": []
          },
          "execution_count": 6
        }
      ]
    },
    {
      "cell_type": "markdown",
      "metadata": {
        "id": "X748P31imHFj",
        "colab_type": "text"
      },
      "source": [
        "'amenities' column has information that could be useful in predicting 'review_scores_rating'. Therefore, we should create features using this column."
      ]
    },
    {
      "cell_type": "code",
      "metadata": {
        "id": "7i6M3pmd3n3E",
        "colab_type": "code",
        "colab": {}
      },
      "source": [
        "def amenities_to_features(x):\n",
        "\n",
        "  x['TV'] = True if 'TV' in x['amenities'] else False\n",
        "  x['Kitchen'] = True if 'Kitchen' in x['amenities'] else False\n",
        "  x['Paid parking off premises'] = True if 'Paid parking off premises' in x['amenities'] else False\n",
        "  x['Heating'] = True if 'Heating' in x['amenities'] else False\n",
        "  x['Washer'] = True if 'Washer' in x['amenities'] else False\n",
        "  x['Air Conditioning'] = True if 'Air conditioning' in x['amenities'] else False\n",
        "  x['Free Parking on premises'] = True if 'Free parking on premises' in x['amenities'] else False\n",
        "  x['Breakfast'] = True if 'Breakfast' in x['amenities'] else False\n",
        "  x['Patio or balcony'] = True if 'Patio or balcony' in x['amenities'] else False\n",
        "  x['Luggage dropoff allowed'] = True if 'Luggage dropoff allowed' in x['amenities'] else False\n",
        "  x['Shampoo'] = True if 'Shampoo' in x['amenities'] else False\n",
        "  x['Free street parking'] = True if 'Free street parking' in x['amenities'] else False\n",
        "\n",
        "\n",
        "  return x\n",
        "\n"
      ],
      "execution_count": 0,
      "outputs": []
    },
    {
      "cell_type": "code",
      "metadata": {
        "id": "yBAyLxIH7d08",
        "colab_type": "code",
        "outputId": "715c466c-cc33-4ab6-fde2-f76a093a38f8",
        "colab": {
          "base_uri": "https://localhost:8080/",
          "height": 717
        }
      },
      "source": [
        "pd.set_option('display.max_colwidth', None)\n",
        "df.head().apply(amenities_to_features, axis=1)"
      ],
      "execution_count": 8,
      "outputs": [
        {
          "output_type": "execute_result",
          "data": {
            "text/html": [
              "<div>\n",
              "<style scoped>\n",
              "    .dataframe tbody tr th:only-of-type {\n",
              "        vertical-align: middle;\n",
              "    }\n",
              "\n",
              "    .dataframe tbody tr th {\n",
              "        vertical-align: top;\n",
              "    }\n",
              "\n",
              "    .dataframe thead th {\n",
              "        text-align: right;\n",
              "    }\n",
              "</style>\n",
              "<table border=\"1\" class=\"dataframe\">\n",
              "  <thead>\n",
              "    <tr style=\"text-align: right;\">\n",
              "      <th></th>\n",
              "      <th>id</th>\n",
              "      <th>host_id</th>\n",
              "      <th>host_is_superhost</th>\n",
              "      <th>neighbourhood_cleansed</th>\n",
              "      <th>zipcode</th>\n",
              "      <th>bathrooms</th>\n",
              "      <th>bedrooms</th>\n",
              "      <th>bed_type</th>\n",
              "      <th>amenities</th>\n",
              "      <th>square_feet</th>\n",
              "      <th>price</th>\n",
              "      <th>number_of_reviews</th>\n",
              "      <th>review_scores_rating</th>\n",
              "      <th>review_scores_location</th>\n",
              "      <th>TV</th>\n",
              "      <th>Kitchen</th>\n",
              "      <th>Paid parking off premises</th>\n",
              "      <th>Heating</th>\n",
              "      <th>Washer</th>\n",
              "      <th>Air Conditioning</th>\n",
              "      <th>Free Parking on premises</th>\n",
              "      <th>Breakfast</th>\n",
              "      <th>Patio or balcony</th>\n",
              "      <th>Luggage dropoff allowed</th>\n",
              "      <th>Shampoo</th>\n",
              "      <th>Free street parking</th>\n",
              "    </tr>\n",
              "  </thead>\n",
              "  <tbody>\n",
              "    <tr>\n",
              "      <th>0</th>\n",
              "      <td>4826</td>\n",
              "      <td>6603</td>\n",
              "      <td>f</td>\n",
              "      <td>Uskudar</td>\n",
              "      <td>34684</td>\n",
              "      <td>1.0</td>\n",
              "      <td>0.0</td>\n",
              "      <td>Real Bed</td>\n",
              "      <td>{TV,\"Cable TV\",Internet,Wifi,Kitchen,\"Smoking allowed\",\"Pets allowed\",Breakfast,Heating,\"Family/kid friendly\",Washer,Dryer,Essentials}</td>\n",
              "      <td>700.0</td>\n",
              "      <td>$734.00</td>\n",
              "      <td>1</td>\n",
              "      <td>100.0</td>\n",
              "      <td>NaN</td>\n",
              "      <td>True</td>\n",
              "      <td>True</td>\n",
              "      <td>False</td>\n",
              "      <td>True</td>\n",
              "      <td>True</td>\n",
              "      <td>False</td>\n",
              "      <td>False</td>\n",
              "      <td>True</td>\n",
              "      <td>False</td>\n",
              "      <td>False</td>\n",
              "      <td>False</td>\n",
              "      <td>False</td>\n",
              "    </tr>\n",
              "    <tr>\n",
              "      <th>1</th>\n",
              "      <td>20815</td>\n",
              "      <td>78838</td>\n",
              "      <td>f</td>\n",
              "      <td>Besiktas</td>\n",
              "      <td>34345</td>\n",
              "      <td>1.0</td>\n",
              "      <td>2.0</td>\n",
              "      <td>Real Bed</td>\n",
              "      <td>{TV,\"Cable TV\",\"Air conditioning\",Kitchen,\"Free parking on premises\",\"Pets allowed\",Heating,\"Family/kid friendly\",Washer,Essentials,Shampoo,\"24-hour check-in\",Hangers,\"Hair dryer\",Iron,\"Laptop friendly workspace\",\"Host greets you\"}</td>\n",
              "      <td>NaN</td>\n",
              "      <td>$832.00</td>\n",
              "      <td>41</td>\n",
              "      <td>90.0</td>\n",
              "      <td>10.0</td>\n",
              "      <td>True</td>\n",
              "      <td>True</td>\n",
              "      <td>False</td>\n",
              "      <td>True</td>\n",
              "      <td>True</td>\n",
              "      <td>True</td>\n",
              "      <td>True</td>\n",
              "      <td>False</td>\n",
              "      <td>False</td>\n",
              "      <td>False</td>\n",
              "      <td>True</td>\n",
              "      <td>False</td>\n",
              "    </tr>\n",
              "    <tr>\n",
              "      <th>2</th>\n",
              "      <td>27271</td>\n",
              "      <td>117026</td>\n",
              "      <td>f</td>\n",
              "      <td>Beyoglu</td>\n",
              "      <td>34433</td>\n",
              "      <td>1.0</td>\n",
              "      <td>1.0</td>\n",
              "      <td>Real Bed</td>\n",
              "      <td>{TV,Internet,Wifi,Kitchen,\"Paid parking off premises\",Doorman,\"Buzzer/wireless intercom\",Heating,\"Family/kid friendly\",Washer,\"First aid kit\",\"Fire extinguisher\",Essentials,Shampoo,Hangers,\"Hair dryer\",Iron,\"Laptop friendly workspace\",\"translation missing: en.hosting_amenity_50\",\"Hot water\",\"Bed linens\",\"Extra pillows and blankets\",\"Long term stays allowed\",\"Host greets you\"}</td>\n",
              "      <td>NaN</td>\n",
              "      <td>$230.00</td>\n",
              "      <td>13</td>\n",
              "      <td>98.0</td>\n",
              "      <td>10.0</td>\n",
              "      <td>True</td>\n",
              "      <td>True</td>\n",
              "      <td>True</td>\n",
              "      <td>True</td>\n",
              "      <td>True</td>\n",
              "      <td>False</td>\n",
              "      <td>False</td>\n",
              "      <td>False</td>\n",
              "      <td>False</td>\n",
              "      <td>False</td>\n",
              "      <td>True</td>\n",
              "      <td>False</td>\n",
              "    </tr>\n",
              "    <tr>\n",
              "      <th>3</th>\n",
              "      <td>28277</td>\n",
              "      <td>121607</td>\n",
              "      <td>f</td>\n",
              "      <td>Sisli</td>\n",
              "      <td>34373</td>\n",
              "      <td>1.0</td>\n",
              "      <td>1.0</td>\n",
              "      <td>Real Bed</td>\n",
              "      <td>{TV,Internet,Wifi,\"Air conditioning\",Kitchen,Elevator,Heating,\"Family/kid friendly\",Washer,Dryer,Essentials,Hangers,\"Hair dryer\",Iron,\"Hot water\",\"Bed linens\",Microwave,Refrigerator,\"Patio or balcony\",\"Long term stays allowed\"}</td>\n",
              "      <td>753.0</td>\n",
              "      <td>$747.00</td>\n",
              "      <td>0</td>\n",
              "      <td>NaN</td>\n",
              "      <td>NaN</td>\n",
              "      <td>True</td>\n",
              "      <td>True</td>\n",
              "      <td>False</td>\n",
              "      <td>True</td>\n",
              "      <td>True</td>\n",
              "      <td>True</td>\n",
              "      <td>False</td>\n",
              "      <td>False</td>\n",
              "      <td>True</td>\n",
              "      <td>False</td>\n",
              "      <td>False</td>\n",
              "      <td>False</td>\n",
              "    </tr>\n",
              "    <tr>\n",
              "      <th>4</th>\n",
              "      <td>28318</td>\n",
              "      <td>121721</td>\n",
              "      <td>f</td>\n",
              "      <td>Sariyer</td>\n",
              "      <td>34398</td>\n",
              "      <td>1.0</td>\n",
              "      <td>2.0</td>\n",
              "      <td>Real Bed</td>\n",
              "      <td>{\"Cable TV\",Internet,Wifi,Kitchen,\"Free parking on premises\",Doorman,\"Buzzer/wireless intercom\",Heating,\"Family/kid friendly\",Washer,Dryer,\"First aid kit\",\"Fire extinguisher\",Essentials,Shampoo}</td>\n",
              "      <td>700.0</td>\n",
              "      <td>$837.00</td>\n",
              "      <td>0</td>\n",
              "      <td>NaN</td>\n",
              "      <td>NaN</td>\n",
              "      <td>True</td>\n",
              "      <td>True</td>\n",
              "      <td>False</td>\n",
              "      <td>True</td>\n",
              "      <td>True</td>\n",
              "      <td>False</td>\n",
              "      <td>True</td>\n",
              "      <td>False</td>\n",
              "      <td>False</td>\n",
              "      <td>False</td>\n",
              "      <td>True</td>\n",
              "      <td>False</td>\n",
              "    </tr>\n",
              "  </tbody>\n",
              "</table>\n",
              "</div>"
            ],
            "text/plain": [
              "      id  host_id  ... Shampoo Free street parking\n",
              "0   4826     6603  ...   False               False\n",
              "1  20815    78838  ...    True               False\n",
              "2  27271   117026  ...    True               False\n",
              "3  28277   121607  ...   False               False\n",
              "4  28318   121721  ...    True               False\n",
              "\n",
              "[5 rows x 26 columns]"
            ]
          },
          "metadata": {
            "tags": []
          },
          "execution_count": 8
        }
      ]
    },
    {
      "cell_type": "code",
      "metadata": {
        "id": "PG_NTxCs-jYX",
        "colab_type": "code",
        "colab": {}
      },
      "source": [
        "df = df.apply(amenities_to_features, axis=1)"
      ],
      "execution_count": 0,
      "outputs": []
    },
    {
      "cell_type": "code",
      "metadata": {
        "id": "hxzQ8T-5-jn1",
        "colab_type": "code",
        "colab": {}
      },
      "source": [
        "df = df.drop(columns=['amenities'])"
      ],
      "execution_count": 0,
      "outputs": []
    },
    {
      "cell_type": "code",
      "metadata": {
        "id": "6FXg0MEy-j1k",
        "colab_type": "code",
        "outputId": "1df49f2e-3984-4fa7-fe87-85453de8c213",
        "colab": {
          "base_uri": "https://localhost:8080/",
          "height": 561
        }
      },
      "source": [
        "df.info()"
      ],
      "execution_count": 11,
      "outputs": [
        {
          "output_type": "stream",
          "text": [
            "<class 'pandas.core.frame.DataFrame'>\n",
            "RangeIndex: 23438 entries, 0 to 23437\n",
            "Data columns (total 25 columns):\n",
            " #   Column                     Non-Null Count  Dtype  \n",
            "---  ------                     --------------  -----  \n",
            " 0   id                         23438 non-null  int64  \n",
            " 1   host_id                    23438 non-null  int64  \n",
            " 2   host_is_superhost          23435 non-null  object \n",
            " 3   neighbourhood_cleansed     23438 non-null  object \n",
            " 4   zipcode                    21037 non-null  object \n",
            " 5   bathrooms                  23357 non-null  float64\n",
            " 6   bedrooms                   23294 non-null  float64\n",
            " 7   bed_type                   23438 non-null  object \n",
            " 8   square_feet                234 non-null    float64\n",
            " 9   price                      23438 non-null  object \n",
            " 10  number_of_reviews          23438 non-null  int64  \n",
            " 11  review_scores_rating       10997 non-null  float64\n",
            " 12  review_scores_location     10984 non-null  float64\n",
            " 13  TV                         23438 non-null  bool   \n",
            " 14  Kitchen                    23438 non-null  bool   \n",
            " 15  Paid parking off premises  23438 non-null  bool   \n",
            " 16  Heating                    23438 non-null  bool   \n",
            " 17  Washer                     23438 non-null  bool   \n",
            " 18  Air Conditioning           23438 non-null  bool   \n",
            " 19  Free Parking on premises   23438 non-null  bool   \n",
            " 20  Breakfast                  23438 non-null  bool   \n",
            " 21  Patio or balcony           23438 non-null  bool   \n",
            " 22  Luggage dropoff allowed    23438 non-null  bool   \n",
            " 23  Shampoo                    23438 non-null  bool   \n",
            " 24  Free street parking        23438 non-null  bool   \n",
            "dtypes: bool(12), float64(5), int64(3), object(5)\n",
            "memory usage: 2.6+ MB\n"
          ],
          "name": "stdout"
        }
      ]
    },
    {
      "cell_type": "markdown",
      "metadata": {
        "id": "nn42UbuUhUeF",
        "colab_type": "text"
      },
      "source": [
        "It is good practice to check the type of data in each column. For example, here we expect price column to be float but we see that it is object type (here it is string). So, we should clean the price column. First removing the '$' and ' , ' from the string, and then converting the resulting string to the float. "
      ]
    },
    {
      "cell_type": "code",
      "metadata": {
        "id": "5A7GktKs-kDP",
        "colab_type": "code",
        "colab": {}
      },
      "source": [
        "df['price'] = df['price'].str.replace(',', '')\n",
        "df['price'] = df['price'].str.replace('$', '')\n",
        "df['price'] = df['price'].astype('float')"
      ],
      "execution_count": 0,
      "outputs": []
    },
    {
      "cell_type": "markdown",
      "metadata": {
        "id": "kyI3oMxjCWTr",
        "colab_type": "text"
      },
      "source": [
        "We should also encode categorical variables to numeric values because RandomForestRegressor will not work with strings. We can use unique values for each categories in each column. "
      ]
    },
    {
      "cell_type": "code",
      "metadata": {
        "id": "OW0FEhvNCWlq",
        "colab_type": "code",
        "outputId": "04f66b3f-2d05-49c4-c46e-2809f2db8df0",
        "colab": {
          "base_uri": "https://localhost:8080/",
          "height": 1000
        }
      },
      "source": [
        "print('Unique values for neighbourhood_cleansed:', df['neighbourhood_cleansed'].unique(), '\\n')\n",
        "print('Unique values for host_is_superhost:', df['host_is_superhost'].unique(), '\\n')\n",
        "print('Unique values for zipcode:', df['zipcode'].unique(), '\\n')\n",
        "print('Unique values for bed_type:', df['bed_type'].unique(), '\\n')"
      ],
      "execution_count": 13,
      "outputs": [
        {
          "output_type": "stream",
          "text": [
            "Unique values for neighbourhood_cleansed: ['Uskudar' 'Besiktas' 'Beyoglu' 'Sisli' 'Sariyer' 'Fatih' 'Kadikoy'\n",
            " 'Kagithane' 'Adalar' 'Maltepe' 'Esenyurt' 'Beykoz' 'Basaksehir'\n",
            " 'Bahcelievler' 'Bagcilar' 'Silivri' 'Beylikduzu' 'Umraniye' 'Sile'\n",
            " 'Cekmekoy' 'Kucukcekmece' 'Sancaktepe' 'Bakirkoy' 'Tuzla' 'Pendik'\n",
            " 'Atasehir' 'Kartal' 'Sultangazi' 'Gaziosmanpasa' 'Buyukcekmece' 'Eyup'\n",
            " 'Zeytinburnu' 'Catalca' 'Avcilar' 'Gungoren' 'Bayrampasa' 'Esenler'\n",
            " 'Sultanbeyli' 'Arnavutkoy'] \n",
            "\n",
            "Unique values for host_is_superhost: ['f' 't' nan] \n",
            "\n",
            "Unique values for zipcode: ['34684' '34345' '34433' '34373' '34398' '34445' '34457' '34365' '34425'\n",
            " '34290' nan '34437' '34674' '34330' '34200' '34440' '34400' '34250'\n",
            " '34427' '34430' '34122' '34744' '34724' '34710' '34970' '34420' '34453'\n",
            " '34387' '34672' '34840' '34093' '34306' '34394' '34421' '34381' '34050'\n",
            " '34716' '34726' '34360' '34435' '34363' '34347' '34664' '34353' '34240'\n",
            " '34470' '34668' '34375' '34349' '34500' '34734' '34718' '34340' '34342'\n",
            " '34662' '34134' '34714' '34098' '34130' '34524' '34357' '34450' '34197'\n",
            " '34980' '34852' '34782' '34303' '34676' '34785' '34083' '34158' '34825'\n",
            " '34903' '34188' '34912' '34520' '34538' '34418' '34854' '34087' '34758'\n",
            " '34337' '34880' '34742' '34126' '34406' '34774' '34467' '34720' '34660'\n",
            " '34149' '34142' '34377' '34371' '34225' '34728' '34237' '34740' '3420'\n",
            " '34110' '34517' '34156' '34844' '34070' '34722' '34510' '34738' '34000'\n",
            " '34120' '34800' '34760' '34725' '34280' '34885' '34752' '34473' '34947'\n",
            " '34075' '34830' '34055' '34580' '34343' '34145' '34873' '34773' '34060'\n",
            " '34096' '34180' '34295' '34107' '34736' '34382' '34020' '34194' '34408'\n",
            " '34805' '34730' '34089' '34150' '34882' '34841' '34975' '34732' '34973'\n",
            " '34570' '34755' '34522' '34100' '34335' '34281' '34442' '34380' '34810'\n",
            " '34415' '34610' '34310' '34010' '34582' '34212' '34367' '34940' '34860'\n",
            " '34575' '34862' '34829' '33333' '34384' '34890' '34315' '34550' '80400'\n",
            " '34104' '34751' '34396' '34379' '34480' '34366' '34899' '34413' '34776'\n",
            " '34325' '34165' '1223' '34843' '34370' '34537' '34080' '3434' '34490'\n",
            " '34977' '34699' '34568' '34696' '34447' '34403' '34794' '34540' '34590'\n",
            " '34443' '34034' '34700' '34374' '34423' '34692' '343333' '35390' '34870'\n",
            " '30433' '34729' '34350' '52750' '34344' '34307' '34746' '34147' '34331'\n",
            " '34173' '51' '34154' '34650' '34560' '34488' '34320' '34065' '34791'\n",
            " '34494' '34528' '34953' '34416' '0090' '34704' '34535' '00000' '34515'\n",
            " '34030' '34196' '34209' '340000' '34815' '34764' '34779' '34452' '34112'\n",
            " '34260' '34930' '34865' '34090' '34906' '34300' '34935' '0000' '34146'\n",
            " '34140' '34584' '34762' '35210' '1111111' '34077' '34896' '34990' '34265'\n",
            " '35158' '39770' '24420' '3400' '34464' '34091' '034' '34460' '34846'\n",
            " '34956' '34153' '34750' '34220' '34771' '34887' 'Türkiye' '34333' '34025'\n",
            " '44122' '3440' '34680' '34015' '34210' '343' '34186' '34682' '34040'\n",
            " '34245' '34182' '34944' '3798' '34410' '34045' '111111' '34230' '34183'\n",
            " '34513' '34283' '34876' '34192' '34775' '34677' '59860' '34218' '34983'\n",
            " '34925' '34270' '34160' '34888' '39394' '34214' '34688' '34204' '34820'\n",
            " '34545' '34035' '34768' '48900' '34530' '80700' '1350' '34412' '34555'\n",
            " '34959' '34255' '34485' '34848' '34834' '34041' '34138' '34287' '34765'\n",
            " '34534' '34164' '34857' '34788' '34707' '34116' '34939' '34770' '34022'\n",
            " '34203' '34433 pürtelaş sok 65 Cihangir taksim plArz' '34378' '34893'\n",
            " '34' '34715' '34690' '34950' '34275' '00034' '34076' '34431' '34766'\n",
            " '34799' '00014' '34235' '34600' '34277' '34697' '34519' '34302' '34405'\n",
            " '35920' 34415.0 34050.0 34515.0 34662.0 34764.0 34684.0 34349.0 34363.0\n",
            " 34714.0 34433.0 34744.0 34538.0 34087.0 34320.0 34722.0 34716.0 34265.0\n",
            " 34100.0 34375.0 34450.0 34153.0 34373.0 34425.0 34122.0 34435.0 34194.0\n",
            " 34394.0 34537.0 34410.0 34738.0 34710.0 34674.0 34340.0 34110.0 34130.0\n",
            " 34520.0 34295.0 34325.0 34876.0 34000.0 34096.0 34188.0 34980.0 34357.0\n",
            " 34664.0 34724.0 34413.0 34142.0 34670.0 34010.0 34080.0 34720.0 34870.0\n",
            " 34528.0 34427.0 34488.0 34360.0 34975.0 34093.0 33100.0 34398.0 34065.0\n",
            " 34672.0 34953.0 34494.0 34277.0 34381.0 34844.0 34973.0 34854.0 34367.0\n",
            " 34035.0 34290.0 34430.0 3400.0 34418.0 34750.0 34696.0 34755.0 34873.0\n",
            " 34347.0 34421.0 31122.0 34200.0 34365.0 34403.0 34158.0 34500.0 34467.0\n",
            " 34396.0 34840.0 34307.0 34841.0 34310.0 34580.0 34406.0 34387.0 34353.0\n",
            " 34060.0 34760.0 34852.0 34342.0 34145.0 34104.0 34480.0 34330.0 34120.0\n",
            " 34437.0 34197.0 34335.0 34513.0 34173.0 34887.0 34935.0 34212.0 34970.0\n",
            " 34704.0 34490.0 34510.0 34990.0 34752.0 34522.0 34180.0 34730.0 34077.0\n",
            " 34134.0 34382.0 34440.0 34983.0 34732.0 34160.0 34865.0 34768.0 34270.0\n",
            " 34692.0 34668.0 34820.0 34718.0 34371.0 34740.0 34843.0 34091.0 34660.0\n",
            " 34788.0 34303.0 34400.0 34862.0 34944.0 0.0 34445.0 34315.0 34903.0\n",
            " 34470.0 34584.0 34728.0 34083.0 34734.0 34742.0 37387.0 34379.0 34882.0\n",
            " 34920.0 34779.0 34815.0 34782.0 34283.0 34682.0 34676.0 34464.0 34940.0\n",
            " 34453.0 34040.0 34524.0 34098.0 34700.0 34408.0 34107.0 34030.0 34218.0\n",
            " 34860.0 34758.0 34337.0 34726.0 34800.0 34345.0 34182.0 34829.0 34746.0\n",
            " 34771.0 34912.0 34540.0 34380.0 34203.0 34140.0 34230.0 343600.0 34785.0\n",
            " 34736.0 34275.0 34517.0 3440.0 34688.0 34880.0 34025.0 34146.0 35324.0\n",
            " 34956.0 34794.0 34485.0 34076.0 34015.0 34250.0 34126.0 34245.0 34384.0\n",
            " 34570.0 34893.0 34457.0 34899.0 34774.0 34149.0 34773.0 347340.0 34306.0\n",
            " 34281.0 34147.0 34810.0 34460.0 34947.0 34287.0 34846.0 34260.0 34776.0\n",
            " 34977.0 34697.0 34377.0 34209.0 34896.0 34775.0 34070.0 34300.0 34255.0\n",
            " 34925.0 34535.0 34680.0 34186.0 34791.0 34020.0 34420.0 34830.0 34590.0\n",
            " 34890.0 34055.0 34240.0 31400.0 34204.0 34825.0 34022.0 33400.0 44433.0\n",
            " 34183.0 34909.0 34181.0 34848.0 34405.0 19.0 34530.0 34220.0 34910.0\n",
            " 34434.0 34361.0 34554.0 34805.0 34566.0 34906.0 34885.0 34164.0 34699.0\n",
            " 34766.0 34214.0 34555.0 34502.0 34799.0 34165.0 34572.0 34045.0 34523.0\n",
            " 34762.0 99410.0 34112.0 24445.0 34707.0 7.0 34.0 34888.0 34448.0 34196.0] \n",
            "\n",
            "Unique values for bed_type: ['Real Bed' 'Pull-out Sofa' 'Couch' 'Airbed' 'Futon'] \n",
            "\n"
          ],
          "name": "stdout"
        }
      ]
    },
    {
      "cell_type": "markdown",
      "metadata": {
        "id": "RCiuGgIxoFzL",
        "colab_type": "text"
      },
      "source": [
        "As we see, zipcode data is a little messy. Some zipcode values are string and some of them are float. Additionally, there are some string entries that are not zipcode. Finally, some of the numeric values are not valid zipcodes. Zipcodes in Istanbul are between 34000 and 35000. "
      ]
    },
    {
      "cell_type": "code",
      "metadata": {
        "colab_type": "code",
        "id": "mRNtdF5u-GaK",
        "colab": {}
      },
      "source": [
        "def clean_neighbourhood_cleansed(input_series):\n",
        "\n",
        "  output_list = [map_func_neighbourhood_cleansed(item) for item in input_series]\n",
        "  \n",
        "  return pd.Series(output_list, index=input_series.index)\n",
        "\n",
        "\n",
        "def map_func_neighbourhood_cleansed(x):\n",
        "\n",
        "  map_dict = {'Uskudar':1, 'Besiktas':2, 'Beyoglu':3, 'Sisli':4, 'Sariyer':5, 'Fatih':6, 'Kadikoy':7,\n",
        " 'Kagithane':8, 'Adalar':9, 'Maltepe':10, 'Esenyurt':11, 'Beykoz':12, 'Basaksehir':13,\n",
        " 'Bahcelievler':14, 'Bagcilar':15, 'Silivri':16, 'Beylikduzu':17, 'Umraniye':18, 'Sile':19,\n",
        " 'Cekmekoy':20, 'Kucukcekmece':21, 'Sancaktepe':22, 'Bakirkoy':23, 'Tuzla':24, 'Pendik':25,\n",
        " 'Atasehir':26, 'Kartal':27, 'Sultangazi':28, 'Gaziosmanpasa':29, 'Buyukcekmece':30, 'Eyup':31,\n",
        " 'Zeytinburnu':32, 'Catalca':33, 'Avcilar':34, 'Gungoren':35, 'Bayrampasa':36, 'Esenler':37,\n",
        " 'Sultanbeyli':38, 'Arnavutkoy':39}\n",
        "\n",
        "  try:\n",
        "    return map_dict[x]\n",
        "\n",
        "  except:\n",
        "    return -1\n",
        "\n",
        "\n",
        "def clean_zipcode(input_series):\n",
        "\n",
        "  output_list = [map_func_zipcode(item) for item in input_series]\n",
        "  \n",
        "  return pd.Series(output_list, index=input_series.index)\n",
        "\n",
        "\n",
        "def map_func_zipcode(x):\n",
        "\n",
        "  try:\n",
        "    y = int(x)\n",
        "\n",
        "    if y < 34000 or y > 35000:\n",
        "      return 0\n",
        "\n",
        "    return y\n",
        "\n",
        "  except:\n",
        "    return 0\n",
        "\n",
        "\n",
        "\n",
        "\n",
        "def clean_host_is_superhost(input_series):\n",
        "\n",
        "  output_list = [map_func_host_is_super_host(item) for item in input_series]\n",
        "  \n",
        "  return pd.Series(output_list, index=input_series.index)\n",
        "\n",
        "\n",
        "def map_func_host_is_super_host(x):\n",
        "\n",
        "  if x == 't':\n",
        "    return 1\n",
        "\n",
        "  else:\n",
        "    return 0\n",
        "\n",
        "\n",
        "\n",
        "def clean_bed_type(input_series):\n",
        "\n",
        "  output_list = [map_func_bed_type(item) for item in input_series]\n",
        "  \n",
        "  return pd.Series(output_list, index=input_series.index)\n",
        "\n",
        "\n",
        "def map_func_bed_type(x):\n",
        "\n",
        "  if x == 'Real Bed':\n",
        "    return 0\n",
        "  elif x == 'Pull-out Sofa':\n",
        "    return 1\n",
        "  elif x == 'Couch':\n",
        "    return 2\n",
        "  elif x == 'Airbed':\n",
        "    return 3\n",
        "  elif x == 'Futon':\n",
        "    return 4\n",
        "  else:\n",
        "    return -1\n"
      ],
      "execution_count": 0,
      "outputs": []
    },
    {
      "cell_type": "code",
      "metadata": {
        "id": "8NePSnMyINCK",
        "colab_type": "code",
        "colab": {}
      },
      "source": [
        "def encode_categoricals(pd_series):\n",
        "\n",
        "\n",
        "  if pd_series.name == 'zipcode':\n",
        "    return clean_zipcode(pd_series)\n",
        "\n",
        "  elif pd_series.name == 'host_is_superhost':\n",
        "    return clean_host_is_superhost(pd_series)\n",
        "\n",
        "  elif pd_series.name == 'bed_type':\n",
        "    return clean_bed_type(pd_series)\n",
        "  \n",
        "  elif pd_series.name == 'neighbourhood_cleansed':\n",
        "    return clean_neighbourhood_cleansed(pd_series)\n",
        "\n",
        "  else:\n",
        "    return pd_series \n",
        "  "
      ],
      "execution_count": 0,
      "outputs": []
    },
    {
      "cell_type": "code",
      "metadata": {
        "id": "Pc29eTeBHsxW",
        "colab_type": "code",
        "colab": {}
      },
      "source": [
        "df = df.apply(encode_categoricals, axis=0)"
      ],
      "execution_count": 0,
      "outputs": []
    },
    {
      "cell_type": "code",
      "metadata": {
        "id": "oKcig_PoloO2",
        "colab_type": "code",
        "outputId": "cd981d24-feac-4450-c137-74c49fc44e54",
        "colab": {
          "base_uri": "https://localhost:8080/",
          "height": 275
        }
      },
      "source": [
        "df.head()"
      ],
      "execution_count": 17,
      "outputs": [
        {
          "output_type": "execute_result",
          "data": {
            "text/html": [
              "<div>\n",
              "<style scoped>\n",
              "    .dataframe tbody tr th:only-of-type {\n",
              "        vertical-align: middle;\n",
              "    }\n",
              "\n",
              "    .dataframe tbody tr th {\n",
              "        vertical-align: top;\n",
              "    }\n",
              "\n",
              "    .dataframe thead th {\n",
              "        text-align: right;\n",
              "    }\n",
              "</style>\n",
              "<table border=\"1\" class=\"dataframe\">\n",
              "  <thead>\n",
              "    <tr style=\"text-align: right;\">\n",
              "      <th></th>\n",
              "      <th>id</th>\n",
              "      <th>host_id</th>\n",
              "      <th>host_is_superhost</th>\n",
              "      <th>neighbourhood_cleansed</th>\n",
              "      <th>zipcode</th>\n",
              "      <th>bathrooms</th>\n",
              "      <th>bedrooms</th>\n",
              "      <th>bed_type</th>\n",
              "      <th>square_feet</th>\n",
              "      <th>price</th>\n",
              "      <th>number_of_reviews</th>\n",
              "      <th>review_scores_rating</th>\n",
              "      <th>review_scores_location</th>\n",
              "      <th>TV</th>\n",
              "      <th>Kitchen</th>\n",
              "      <th>Paid parking off premises</th>\n",
              "      <th>Heating</th>\n",
              "      <th>Washer</th>\n",
              "      <th>Air Conditioning</th>\n",
              "      <th>Free Parking on premises</th>\n",
              "      <th>Breakfast</th>\n",
              "      <th>Patio or balcony</th>\n",
              "      <th>Luggage dropoff allowed</th>\n",
              "      <th>Shampoo</th>\n",
              "      <th>Free street parking</th>\n",
              "    </tr>\n",
              "  </thead>\n",
              "  <tbody>\n",
              "    <tr>\n",
              "      <th>0</th>\n",
              "      <td>4826</td>\n",
              "      <td>6603</td>\n",
              "      <td>0</td>\n",
              "      <td>1</td>\n",
              "      <td>34684</td>\n",
              "      <td>1.0</td>\n",
              "      <td>0.0</td>\n",
              "      <td>0</td>\n",
              "      <td>700.0</td>\n",
              "      <td>734.0</td>\n",
              "      <td>1</td>\n",
              "      <td>100.0</td>\n",
              "      <td>NaN</td>\n",
              "      <td>True</td>\n",
              "      <td>True</td>\n",
              "      <td>False</td>\n",
              "      <td>True</td>\n",
              "      <td>True</td>\n",
              "      <td>False</td>\n",
              "      <td>False</td>\n",
              "      <td>True</td>\n",
              "      <td>False</td>\n",
              "      <td>False</td>\n",
              "      <td>False</td>\n",
              "      <td>False</td>\n",
              "    </tr>\n",
              "    <tr>\n",
              "      <th>1</th>\n",
              "      <td>20815</td>\n",
              "      <td>78838</td>\n",
              "      <td>0</td>\n",
              "      <td>2</td>\n",
              "      <td>34345</td>\n",
              "      <td>1.0</td>\n",
              "      <td>2.0</td>\n",
              "      <td>0</td>\n",
              "      <td>NaN</td>\n",
              "      <td>832.0</td>\n",
              "      <td>41</td>\n",
              "      <td>90.0</td>\n",
              "      <td>10.0</td>\n",
              "      <td>True</td>\n",
              "      <td>True</td>\n",
              "      <td>False</td>\n",
              "      <td>True</td>\n",
              "      <td>True</td>\n",
              "      <td>True</td>\n",
              "      <td>True</td>\n",
              "      <td>False</td>\n",
              "      <td>False</td>\n",
              "      <td>False</td>\n",
              "      <td>True</td>\n",
              "      <td>False</td>\n",
              "    </tr>\n",
              "    <tr>\n",
              "      <th>2</th>\n",
              "      <td>27271</td>\n",
              "      <td>117026</td>\n",
              "      <td>0</td>\n",
              "      <td>3</td>\n",
              "      <td>34433</td>\n",
              "      <td>1.0</td>\n",
              "      <td>1.0</td>\n",
              "      <td>0</td>\n",
              "      <td>NaN</td>\n",
              "      <td>230.0</td>\n",
              "      <td>13</td>\n",
              "      <td>98.0</td>\n",
              "      <td>10.0</td>\n",
              "      <td>True</td>\n",
              "      <td>True</td>\n",
              "      <td>True</td>\n",
              "      <td>True</td>\n",
              "      <td>True</td>\n",
              "      <td>False</td>\n",
              "      <td>False</td>\n",
              "      <td>False</td>\n",
              "      <td>False</td>\n",
              "      <td>False</td>\n",
              "      <td>True</td>\n",
              "      <td>False</td>\n",
              "    </tr>\n",
              "    <tr>\n",
              "      <th>3</th>\n",
              "      <td>28277</td>\n",
              "      <td>121607</td>\n",
              "      <td>0</td>\n",
              "      <td>4</td>\n",
              "      <td>34373</td>\n",
              "      <td>1.0</td>\n",
              "      <td>1.0</td>\n",
              "      <td>0</td>\n",
              "      <td>753.0</td>\n",
              "      <td>747.0</td>\n",
              "      <td>0</td>\n",
              "      <td>NaN</td>\n",
              "      <td>NaN</td>\n",
              "      <td>True</td>\n",
              "      <td>True</td>\n",
              "      <td>False</td>\n",
              "      <td>True</td>\n",
              "      <td>True</td>\n",
              "      <td>True</td>\n",
              "      <td>False</td>\n",
              "      <td>False</td>\n",
              "      <td>True</td>\n",
              "      <td>False</td>\n",
              "      <td>False</td>\n",
              "      <td>False</td>\n",
              "    </tr>\n",
              "    <tr>\n",
              "      <th>4</th>\n",
              "      <td>28318</td>\n",
              "      <td>121721</td>\n",
              "      <td>0</td>\n",
              "      <td>5</td>\n",
              "      <td>34398</td>\n",
              "      <td>1.0</td>\n",
              "      <td>2.0</td>\n",
              "      <td>0</td>\n",
              "      <td>700.0</td>\n",
              "      <td>837.0</td>\n",
              "      <td>0</td>\n",
              "      <td>NaN</td>\n",
              "      <td>NaN</td>\n",
              "      <td>True</td>\n",
              "      <td>True</td>\n",
              "      <td>False</td>\n",
              "      <td>True</td>\n",
              "      <td>True</td>\n",
              "      <td>False</td>\n",
              "      <td>True</td>\n",
              "      <td>False</td>\n",
              "      <td>False</td>\n",
              "      <td>False</td>\n",
              "      <td>True</td>\n",
              "      <td>False</td>\n",
              "    </tr>\n",
              "  </tbody>\n",
              "</table>\n",
              "</div>"
            ],
            "text/plain": [
              "      id  host_id  ...  Shampoo  Free street parking\n",
              "0   4826     6603  ...    False                False\n",
              "1  20815    78838  ...     True                False\n",
              "2  27271   117026  ...     True                False\n",
              "3  28277   121607  ...    False                False\n",
              "4  28318   121721  ...     True                False\n",
              "\n",
              "[5 rows x 25 columns]"
            ]
          },
          "metadata": {
            "tags": []
          },
          "execution_count": 17
        }
      ]
    },
    {
      "cell_type": "code",
      "metadata": {
        "id": "0M32JtO6oHQ7",
        "colab_type": "code",
        "outputId": "e996ec76-9a7b-4914-9509-6402cbaba9d8",
        "colab": {
          "base_uri": "https://localhost:8080/",
          "height": 561
        }
      },
      "source": [
        "df.info()"
      ],
      "execution_count": 18,
      "outputs": [
        {
          "output_type": "stream",
          "text": [
            "<class 'pandas.core.frame.DataFrame'>\n",
            "RangeIndex: 23438 entries, 0 to 23437\n",
            "Data columns (total 25 columns):\n",
            " #   Column                     Non-Null Count  Dtype  \n",
            "---  ------                     --------------  -----  \n",
            " 0   id                         23438 non-null  int64  \n",
            " 1   host_id                    23438 non-null  int64  \n",
            " 2   host_is_superhost          23438 non-null  int64  \n",
            " 3   neighbourhood_cleansed     23438 non-null  int64  \n",
            " 4   zipcode                    23438 non-null  int64  \n",
            " 5   bathrooms                  23357 non-null  float64\n",
            " 6   bedrooms                   23294 non-null  float64\n",
            " 7   bed_type                   23438 non-null  int64  \n",
            " 8   square_feet                234 non-null    float64\n",
            " 9   price                      23438 non-null  float64\n",
            " 10  number_of_reviews          23438 non-null  int64  \n",
            " 11  review_scores_rating       10997 non-null  float64\n",
            " 12  review_scores_location     10984 non-null  float64\n",
            " 13  TV                         23438 non-null  bool   \n",
            " 14  Kitchen                    23438 non-null  bool   \n",
            " 15  Paid parking off premises  23438 non-null  bool   \n",
            " 16  Heating                    23438 non-null  bool   \n",
            " 17  Washer                     23438 non-null  bool   \n",
            " 18  Air Conditioning           23438 non-null  bool   \n",
            " 19  Free Parking on premises   23438 non-null  bool   \n",
            " 20  Breakfast                  23438 non-null  bool   \n",
            " 21  Patio or balcony           23438 non-null  bool   \n",
            " 22  Luggage dropoff allowed    23438 non-null  bool   \n",
            " 23  Shampoo                    23438 non-null  bool   \n",
            " 24  Free street parking        23438 non-null  bool   \n",
            "dtypes: bool(12), float64(6), int64(7)\n",
            "memory usage: 2.6 MB\n"
          ],
          "name": "stdout"
        }
      ]
    },
    {
      "cell_type": "markdown",
      "metadata": {
        "id": "QeFWZe1km_zb",
        "colab_type": "text"
      },
      "source": [
        "Now, the data in all columns are in expected type. If we look to 'number_of_reviews', we see that most of the accommodations got very few reviews. If we do our analysis with the samples having many reviews, we obtain more reliable results. "
      ]
    },
    {
      "cell_type": "code",
      "metadata": {
        "id": "0pWNqoFZlrLt",
        "colab_type": "code",
        "outputId": "5f45fae4-9c4f-4490-ae92-e065c0b46975",
        "colab": {
          "base_uri": "https://localhost:8080/",
          "height": 265
        }
      },
      "source": [
        "df['number_of_reviews'].hist(bins=100)\n",
        "plt.show()"
      ],
      "execution_count": 19,
      "outputs": [
        {
          "output_type": "display_data",
          "data": {
            "image/png": "[encoded data removed]",
            "text/plain": [
              "<Figure size 432x288 with 1 Axes>"
            ]
          },
          "metadata": {
            "tags": [],
            "needs_background": "light"
          }
        }
      ]
    },
    {
      "cell_type": "markdown",
      "metadata": {
        "id": "dYiHYy_MB7Iu",
        "colab_type": "text"
      },
      "source": [
        "Setting a threshold to filter the hosts that get enough reviews."
      ]
    },
    {
      "cell_type": "code",
      "metadata": {
        "id": "QPeZkrp7mdfW",
        "colab_type": "code",
        "colab": {}
      },
      "source": [
        "threshold_for_review = 10\n",
        "df_review_threshold = df[df['number_of_reviews']>threshold_for_review]"
      ],
      "execution_count": 0,
      "outputs": []
    },
    {
      "cell_type": "markdown",
      "metadata": {
        "id": "TWpld1UTPDcu",
        "colab_type": "text"
      },
      "source": [
        "We should drop some of the columns that will not be useful in prediction of the 'review_scores_rating'. We keep 'host_id' column to use it in train-validation splitting as group variable."
      ]
    },
    {
      "cell_type": "code",
      "metadata": {
        "id": "4lyO4zyfMov-",
        "colab_type": "code",
        "colab": {}
      },
      "source": [
        "df_review_threshold = df_review_threshold.drop(columns=['id','host_is_superhost','number_of_reviews','review_scores_location'])"
      ],
      "execution_count": 0,
      "outputs": []
    },
    {
      "cell_type": "code",
      "metadata": {
        "id": "uTjDaMtXOB-l",
        "colab_type": "code",
        "outputId": "f8ede74a-406b-436b-ca3a-bb67515d2390",
        "colab": {
          "base_uri": "https://localhost:8080/",
          "height": 493
        }
      },
      "source": [
        "df_review_threshold.info()"
      ],
      "execution_count": 22,
      "outputs": [
        {
          "output_type": "stream",
          "text": [
            "<class 'pandas.core.frame.DataFrame'>\n",
            "Int64Index: 3918 entries, 1 to 21813\n",
            "Data columns (total 21 columns):\n",
            " #   Column                     Non-Null Count  Dtype  \n",
            "---  ------                     --------------  -----  \n",
            " 0   host_id                    3918 non-null   int64  \n",
            " 1   neighbourhood_cleansed     3918 non-null   int64  \n",
            " 2   zipcode                    3918 non-null   int64  \n",
            " 3   bathrooms                  3915 non-null   float64\n",
            " 4   bedrooms                   3916 non-null   float64\n",
            " 5   bed_type                   3918 non-null   int64  \n",
            " 6   square_feet                106 non-null    float64\n",
            " 7   price                      3918 non-null   float64\n",
            " 8   review_scores_rating       3918 non-null   float64\n",
            " 9   TV                         3918 non-null   bool   \n",
            " 10  Kitchen                    3918 non-null   bool   \n",
            " 11  Paid parking off premises  3918 non-null   bool   \n",
            " 12  Heating                    3918 non-null   bool   \n",
            " 13  Washer                     3918 non-null   bool   \n",
            " 14  Air Conditioning           3918 non-null   bool   \n",
            " 15  Free Parking on premises   3918 non-null   bool   \n",
            " 16  Breakfast                  3918 non-null   bool   \n",
            " 17  Patio or balcony           3918 non-null   bool   \n",
            " 18  Luggage dropoff allowed    3918 non-null   bool   \n",
            " 19  Shampoo                    3918 non-null   bool   \n",
            " 20  Free street parking        3918 non-null   bool   \n",
            "dtypes: bool(12), float64(5), int64(4)\n",
            "memory usage: 352.0 KB\n"
          ],
          "name": "stdout"
        }
      ]
    },
    {
      "cell_type": "markdown",
      "metadata": {
        "id": "P0-ZIHhEnxVv",
        "colab_type": "text"
      },
      "source": [
        "We see that in 'square feet' column, data is present only for small subset of the samples. We can drop that column."
      ]
    },
    {
      "cell_type": "code",
      "metadata": {
        "id": "PrkLc2BwOCEA",
        "colab_type": "code",
        "colab": {}
      },
      "source": [
        "df_review_threshold = df_review_threshold.drop(columns='square_feet')"
      ],
      "execution_count": 0,
      "outputs": []
    },
    {
      "cell_type": "markdown",
      "metadata": {
        "id": "msjF6_UK-LCQ",
        "colab_type": "text"
      },
      "source": [
        "In addition, we should also take care of the missing values for other columns. We can impute constant values to the columns of 'bathrooms' and 'bedrooms'. "
      ]
    },
    {
      "cell_type": "code",
      "metadata": {
        "id": "A6OOpGhH-KN8",
        "colab_type": "code",
        "colab": {}
      },
      "source": [
        "df_review_threshold.fillna(-1, inplace=True)"
      ],
      "execution_count": 0,
      "outputs": []
    },
    {
      "cell_type": "markdown",
      "metadata": {
        "id": "eDUD2WDcnWJq",
        "colab_type": "text"
      },
      "source": [
        "Another handy method in pandas for exploring a dataset is 'describe' method. When we used that method, we observe abnormal values for maximum number of bathrooms and bedrooms as 11. Additionally, we saw maximum price is $69,912. That is abnormally high for renting a place in Istanbul for a night. However, these outliers will not dramatically effect our prediction analysis because we will use tree based model."
      ]
    },
    {
      "cell_type": "code",
      "metadata": {
        "id": "uz1PwtftAFNq",
        "colab_type": "code",
        "outputId": "a6ba9b2f-e940-4ad5-b123-0b734db1c7cb",
        "colab": {
          "base_uri": "https://localhost:8080/",
          "height": 297
        }
      },
      "source": [
        "df_review_threshold.describe()"
      ],
      "execution_count": 25,
      "outputs": [
        {
          "output_type": "execute_result",
          "data": {
            "text/html": [
              "<div>\n",
              "<style scoped>\n",
              "    .dataframe tbody tr th:only-of-type {\n",
              "        vertical-align: middle;\n",
              "    }\n",
              "\n",
              "    .dataframe tbody tr th {\n",
              "        vertical-align: top;\n",
              "    }\n",
              "\n",
              "    .dataframe thead th {\n",
              "        text-align: right;\n",
              "    }\n",
              "</style>\n",
              "<table border=\"1\" class=\"dataframe\">\n",
              "  <thead>\n",
              "    <tr style=\"text-align: right;\">\n",
              "      <th></th>\n",
              "      <th>host_id</th>\n",
              "      <th>neighbourhood_cleansed</th>\n",
              "      <th>zipcode</th>\n",
              "      <th>bathrooms</th>\n",
              "      <th>bedrooms</th>\n",
              "      <th>bed_type</th>\n",
              "      <th>price</th>\n",
              "      <th>review_scores_rating</th>\n",
              "    </tr>\n",
              "  </thead>\n",
              "  <tbody>\n",
              "    <tr>\n",
              "      <th>count</th>\n",
              "      <td>3.918000e+03</td>\n",
              "      <td>3918.000000</td>\n",
              "      <td>3918.000000</td>\n",
              "      <td>3918.000000</td>\n",
              "      <td>3918.000000</td>\n",
              "      <td>3918.000000</td>\n",
              "      <td>3918.000000</td>\n",
              "      <td>3918.000000</td>\n",
              "    </tr>\n",
              "    <tr>\n",
              "      <th>mean</th>\n",
              "      <td>8.973662e+07</td>\n",
              "      <td>5.247575</td>\n",
              "      <td>31861.121491</td>\n",
              "      <td>1.143441</td>\n",
              "      <td>1.375702</td>\n",
              "      <td>0.008678</td>\n",
              "      <td>377.695253</td>\n",
              "      <td>93.423175</td>\n",
              "    </tr>\n",
              "    <tr>\n",
              "      <th>std</th>\n",
              "      <td>9.536694e+07</td>\n",
              "      <td>5.222833</td>\n",
              "      <td>8977.470143</td>\n",
              "      <td>0.513635</td>\n",
              "      <td>0.895763</td>\n",
              "      <td>0.129516</td>\n",
              "      <td>1181.959816</td>\n",
              "      <td>5.208161</td>\n",
              "    </tr>\n",
              "    <tr>\n",
              "      <th>min</th>\n",
              "      <td>7.883800e+04</td>\n",
              "      <td>1.000000</td>\n",
              "      <td>0.000000</td>\n",
              "      <td>-1.000000</td>\n",
              "      <td>-1.000000</td>\n",
              "      <td>0.000000</td>\n",
              "      <td>0.000000</td>\n",
              "      <td>67.000000</td>\n",
              "    </tr>\n",
              "    <tr>\n",
              "      <th>25%</th>\n",
              "      <td>1.162866e+07</td>\n",
              "      <td>3.000000</td>\n",
              "      <td>34200.000000</td>\n",
              "      <td>1.000000</td>\n",
              "      <td>1.000000</td>\n",
              "      <td>0.000000</td>\n",
              "      <td>168.000000</td>\n",
              "      <td>91.000000</td>\n",
              "    </tr>\n",
              "    <tr>\n",
              "      <th>50%</th>\n",
              "      <td>4.197629e+07</td>\n",
              "      <td>3.000000</td>\n",
              "      <td>34421.000000</td>\n",
              "      <td>1.000000</td>\n",
              "      <td>1.000000</td>\n",
              "      <td>0.000000</td>\n",
              "      <td>272.000000</td>\n",
              "      <td>95.000000</td>\n",
              "    </tr>\n",
              "    <tr>\n",
              "      <th>75%</th>\n",
              "      <td>1.779758e+08</td>\n",
              "      <td>6.000000</td>\n",
              "      <td>34435.000000</td>\n",
              "      <td>1.000000</td>\n",
              "      <td>2.000000</td>\n",
              "      <td>0.000000</td>\n",
              "      <td>427.000000</td>\n",
              "      <td>97.000000</td>\n",
              "    </tr>\n",
              "    <tr>\n",
              "      <th>max</th>\n",
              "      <td>3.357793e+08</td>\n",
              "      <td>39.000000</td>\n",
              "      <td>34990.000000</td>\n",
              "      <td>11.000000</td>\n",
              "      <td>11.000000</td>\n",
              "      <td>4.000000</td>\n",
              "      <td>69912.000000</td>\n",
              "      <td>100.000000</td>\n",
              "    </tr>\n",
              "  </tbody>\n",
              "</table>\n",
              "</div>"
            ],
            "text/plain": [
              "            host_id  neighbourhood_cleansed  ...         price  review_scores_rating\n",
              "count  3.918000e+03             3918.000000  ...   3918.000000           3918.000000\n",
              "mean   8.973662e+07                5.247575  ...    377.695253             93.423175\n",
              "std    9.536694e+07                5.222833  ...   1181.959816              5.208161\n",
              "min    7.883800e+04                1.000000  ...      0.000000             67.000000\n",
              "25%    1.162866e+07                3.000000  ...    168.000000             91.000000\n",
              "50%    4.197629e+07                3.000000  ...    272.000000             95.000000\n",
              "75%    1.779758e+08                6.000000  ...    427.000000             97.000000\n",
              "max    3.357793e+08               39.000000  ...  69912.000000            100.000000\n",
              "\n",
              "[8 rows x 8 columns]"
            ]
          },
          "metadata": {
            "tags": []
          },
          "execution_count": 25
        }
      ]
    },
    {
      "cell_type": "code",
      "metadata": {
        "id": "RsOwdDaoBKfH",
        "colab_type": "code",
        "colab": {}
      },
      "source": [
        ""
      ],
      "execution_count": 0,
      "outputs": []
    },
    {
      "cell_type": "code",
      "metadata": {
        "id": "UVGj5VToBKwR",
        "colab_type": "code",
        "colab": {}
      },
      "source": [
        ""
      ],
      "execution_count": 0,
      "outputs": []
    },
    {
      "cell_type": "code",
      "metadata": {
        "id": "5fP9X2imBK5j",
        "colab_type": "code",
        "colab": {}
      },
      "source": [
        ""
      ],
      "execution_count": 0,
      "outputs": []
    },
    {
      "cell_type": "code",
      "metadata": {
        "id": "LOpov3M-BLDc",
        "colab_type": "code",
        "colab": {}
      },
      "source": [
        ""
      ],
      "execution_count": 0,
      "outputs": []
    },
    {
      "cell_type": "markdown",
      "metadata": {
        "id": "Ofimrr7XvA-g",
        "colab_type": "text"
      },
      "source": [
        "Now we can split the data as train and test sets. We need to be careful about dependencies in the data in splitting the dataset. In our case, accommodations might be dependent if they belong to the same host. If we, don't take this dependencies into consideration, we might have over-optimistic models. For this reason, we will use GroupShuffleSplit method in sklearn. This method will ensure us to have accommodations belonging to a same host will appear either only in train or test set.   "
      ]
    },
    {
      "cell_type": "code",
      "metadata": {
        "id": "5_1wFShS6MRF",
        "colab_type": "code",
        "outputId": "810a4390-135a-43ca-8347-ebfc013c8bfe",
        "colab": {
          "base_uri": "https://localhost:8080/",
          "height": 51
        }
      },
      "source": [
        "print(\"The number of accommodations in the list:\", pd.unique(df['id']).shape[0])\n",
        "print(\"The number of hosts in the list:\", pd.unique(df['host_id']).shape[0])"
      ],
      "execution_count": 0,
      "outputs": [
        {
          "output_type": "stream",
          "text": [
            "The number of accommodations in the list: 23438\n",
            "The number of hosts in the list: 14234\n"
          ],
          "name": "stdout"
        }
      ]
    },
    {
      "cell_type": "code",
      "metadata": {
        "id": "Tig91QIu1C1h",
        "colab_type": "code",
        "colab": {}
      },
      "source": [
        "#initializing GroupShuffleSplit class\n",
        "gss_for_test = GroupShuffleSplit(n_splits=2, train_size=.8, random_state=42)\n",
        "\n",
        "#generating train and test indices\n",
        "train_inds, test_inds = next(gss_for_test.split(df_review_threshold, groups=df_review_threshold['host_id']))\n",
        "\n",
        "#obtaining train and test dataframes\n",
        "df_train, df_test = df_review_threshold.iloc[train_inds], df_review_threshold.iloc[test_inds]"
      ],
      "execution_count": 0,
      "outputs": []
    },
    {
      "cell_type": "markdown",
      "metadata": {
        "id": "_8iKLaM1xrfQ",
        "colab_type": "text"
      },
      "source": [
        "Finally, we finished our data preprocessing steps and now we can work on our predictive model. We can try to tune some of the hyperparameters. We will search optimal hyperparameter values in randomized search manner. "
      ]
    },
    {
      "cell_type": "code",
      "metadata": {
        "id": "HdBdUEHQ6UOk",
        "colab_type": "code",
        "colab": {}
      },
      "source": [
        "# Setting candidates for some hyperparameters, these hyperparameters are the most important ones for randomforest regressor. \n",
        "# They can help reducing overfitting if tuned properly.\n",
        "max_features = ['auto', 'sqrt']\n",
        "max_depth = [int(x) for x in np.linspace(10, 100, num = 10)]\n",
        "min_samples_leaf = [int(x) for x in np.linspace(1,10, num=10)]\n",
        "n_estimators = [200]"
      ],
      "execution_count": 0,
      "outputs": []
    },
    {
      "cell_type": "markdown",
      "metadata": {
        "id": "6Qs9PinmuY_H",
        "colab_type": "text"
      },
      "source": [
        "We initialize our cross validation splitter, regressor and class that will search for optimal hyperparameters."
      ]
    },
    {
      "cell_type": "code",
      "metadata": {
        "id": "zdBHNccS6g7V",
        "colab_type": "code",
        "colab": {}
      },
      "source": [
        "gss = GroupShuffleSplit(n_splits=3, random_state=42).split(df_train, groups=df_train['host_id'])\n",
        "parameters = {'max_features':max_features, 'max_depth':max_depth, 'n_estimators':n_estimators, 'min_samples_leaf':min_samples_leaf}\n",
        "regr = RandomForestRegressor(random_state=42)\n",
        "rand_search = RandomizedSearchCV(estimator=regr, param_distributions=parameters, cv=gss, n_jobs=-1, n_iter=100)"
      ],
      "execution_count": 0,
      "outputs": []
    },
    {
      "cell_type": "markdown",
      "metadata": {
        "id": "jhwr6Q0AvDDU",
        "colab_type": "text"
      },
      "source": [
        "We should drop 'host_id' column because it is not a useful predictor for review scores and it might create some bias in analysis."
      ]
    },
    {
      "cell_type": "code",
      "metadata": {
        "id": "j1peMQWb_s-1",
        "colab_type": "code",
        "colab": {}
      },
      "source": [
        "df_train = df_train.drop(columns=['host_id'])\n",
        "df_test = df_test.drop(columns=['host_id'])"
      ],
      "execution_count": 0,
      "outputs": []
    },
    {
      "cell_type": "markdown",
      "metadata": {
        "id": "R9v7xJNNf3Dz",
        "colab_type": "text"
      },
      "source": [
        "It is good to check the columns before feeding our dataframe to the model training pipeline."
      ]
    },
    {
      "cell_type": "code",
      "metadata": {
        "id": "q98TNOoajMnF",
        "colab_type": "code",
        "outputId": "fd1f90e3-537e-4ad6-f9d1-3cb5e23d4bdd",
        "colab": {
          "base_uri": "https://localhost:8080/",
          "height": 459
        }
      },
      "source": [
        "df_train.info()"
      ],
      "execution_count": 0,
      "outputs": [
        {
          "output_type": "stream",
          "text": [
            "<class 'pandas.core.frame.DataFrame'>\n",
            "Int64Index: 3163 entries, 1 to 21813\n",
            "Data columns (total 19 columns):\n",
            " #   Column                     Non-Null Count  Dtype  \n",
            "---  ------                     --------------  -----  \n",
            " 0   neighbourhood_cleansed     3163 non-null   int64  \n",
            " 1   zipcode                    3163 non-null   int64  \n",
            " 2   bathrooms                  3163 non-null   float64\n",
            " 3   bedrooms                   3163 non-null   float64\n",
            " 4   bed_type                   3163 non-null   int64  \n",
            " 5   price                      3163 non-null   float64\n",
            " 6   review_scores_rating       3163 non-null   float64\n",
            " 7   TV                         3163 non-null   bool   \n",
            " 8   Kitchen                    3163 non-null   bool   \n",
            " 9   Paid parking off premises  3163 non-null   bool   \n",
            " 10  Heating                    3163 non-null   bool   \n",
            " 11  Washer                     3163 non-null   bool   \n",
            " 12  Air Conditioning           3163 non-null   bool   \n",
            " 13  Free Parking on premises   3163 non-null   bool   \n",
            " 14  Breakfast                  3163 non-null   bool   \n",
            " 15  Patio or balcony           3163 non-null   bool   \n",
            " 16  Luggage dropoff allowed    3163 non-null   bool   \n",
            " 17  Shampoo                    3163 non-null   bool   \n",
            " 18  Free street parking        3163 non-null   bool   \n",
            "dtypes: bool(12), float64(4), int64(3)\n",
            "memory usage: 234.8 KB\n"
          ],
          "name": "stdout"
        }
      ]
    },
    {
      "cell_type": "code",
      "metadata": {
        "id": "BsXDNoWqDsLy",
        "colab_type": "code",
        "outputId": "a9b9ed91-cc16-45fb-8861-201d900617ee",
        "colab": {
          "base_uri": "https://localhost:8080/",
          "height": 459
        }
      },
      "source": [
        "df_test.info()"
      ],
      "execution_count": 0,
      "outputs": [
        {
          "output_type": "stream",
          "text": [
            "<class 'pandas.core.frame.DataFrame'>\n",
            "Int64Index: 755 entries, 22 to 21683\n",
            "Data columns (total 19 columns):\n",
            " #   Column                     Non-Null Count  Dtype  \n",
            "---  ------                     --------------  -----  \n",
            " 0   neighbourhood_cleansed     755 non-null    int64  \n",
            " 1   zipcode                    755 non-null    int64  \n",
            " 2   bathrooms                  755 non-null    float64\n",
            " 3   bedrooms                   755 non-null    float64\n",
            " 4   bed_type                   755 non-null    int64  \n",
            " 5   price                      755 non-null    float64\n",
            " 6   review_scores_rating       755 non-null    float64\n",
            " 7   TV                         755 non-null    bool   \n",
            " 8   Kitchen                    755 non-null    bool   \n",
            " 9   Paid parking off premises  755 non-null    bool   \n",
            " 10  Heating                    755 non-null    bool   \n",
            " 11  Washer                     755 non-null    bool   \n",
            " 12  Air Conditioning           755 non-null    bool   \n",
            " 13  Free Parking on premises   755 non-null    bool   \n",
            " 14  Breakfast                  755 non-null    bool   \n",
            " 15  Patio or balcony           755 non-null    bool   \n",
            " 16  Luggage dropoff allowed    755 non-null    bool   \n",
            " 17  Shampoo                    755 non-null    bool   \n",
            " 18  Free street parking        755 non-null    bool   \n",
            "dtypes: bool(12), float64(4), int64(3)\n",
            "memory usage: 56.0 KB\n"
          ],
          "name": "stdout"
        }
      ]
    },
    {
      "cell_type": "code",
      "metadata": {
        "id": "7eYiy4ZV6hAd",
        "colab_type": "code",
        "outputId": "601ad2ea-f030-4def-e7df-77ee0bdbd598",
        "colab": {
          "base_uri": "https://localhost:8080/",
          "height": 459
        }
      },
      "source": [
        "rand_search.fit(df_train.drop(columns=['review_scores_rating']), df_train['review_scores_rating'])"
      ],
      "execution_count": 0,
      "outputs": [
        {
          "output_type": "execute_result",
          "data": {
            "text/plain": [
              "RandomizedSearchCV(cv=<generator object BaseShuffleSplit.split at 0x7fb715266f10>,\n",
              "                   error_score=nan,\n",
              "                   estimator=RandomForestRegressor(bootstrap=True,\n",
              "                                                   ccp_alpha=0.0,\n",
              "                                                   criterion='mse',\n",
              "                                                   max_depth=None,\n",
              "                                                   max_features='auto',\n",
              "                                                   max_leaf_nodes=None,\n",
              "                                                   max_samples=None,\n",
              "                                                   min_impurity_decrease=0.0,\n",
              "                                                   min_impurity_split=None,\n",
              "                                                   min_samples_leaf=1,\n",
              "                                                   min_samples_split=2,\n",
              "                                                   min_weight_fractio...\n",
              "                                                   n_jobs=None, oob_score=False,\n",
              "                                                   random_state=42, verbose=0,\n",
              "                                                   warm_start=False),\n",
              "                   iid='deprecated', n_iter=100, n_jobs=-1,\n",
              "                   param_distributions={'max_depth': [10, 20, 30, 40, 50, 60,\n",
              "                                                      70, 80, 90, 100],\n",
              "                                        'max_features': ['auto', 'sqrt'],\n",
              "                                        'min_samples_leaf': [1, 2, 3, 4, 5, 6,\n",
              "                                                             7, 8, 9, 10],\n",
              "                                        'n_estimators': [200]},\n",
              "                   pre_dispatch='2*n_jobs', random_state=None, refit=True,\n",
              "                   return_train_score=False, scoring=None, verbose=0)"
            ]
          },
          "metadata": {
            "tags": []
          },
          "execution_count": 33
        }
      ]
    },
    {
      "cell_type": "markdown",
      "metadata": {
        "id": "Wgx31EUeg53N",
        "colab_type": "text"
      },
      "source": [
        "We trained our model and now we can examine the results. Here we will look to predictions in test set and RMSE value for this predictions. "
      ]
    },
    {
      "cell_type": "code",
      "metadata": {
        "id": "3WhnMQF97Hpm",
        "colab_type": "code",
        "outputId": "44938dbd-3fc0-45e7-8133-11675c93800a",
        "colab": {
          "base_uri": "https://localhost:8080/",
          "height": 85
        }
      },
      "source": [
        "#best hyperparameter setting giving the least mean squared error in cross validation set.\n",
        "rand_search.best_params_"
      ],
      "execution_count": 0,
      "outputs": [
        {
          "output_type": "execute_result",
          "data": {
            "text/plain": [
              "{'max_depth': 70,\n",
              " 'max_features': 'sqrt',\n",
              " 'min_samples_leaf': 9,\n",
              " 'n_estimators': 200}"
            ]
          },
          "metadata": {
            "tags": []
          },
          "execution_count": 34
        }
      ]
    },
    {
      "cell_type": "code",
      "metadata": {
        "id": "7jmmAhhC7HxU",
        "colab_type": "code",
        "colab": {}
      },
      "source": [
        "#predicting the 'review_scores_rating' in test set using the best model. \n",
        "pred_review_scores_rating = rand_search.predict(df_test.drop(columns=['review_scores_rating']))"
      ],
      "execution_count": 0,
      "outputs": []
    },
    {
      "cell_type": "code",
      "metadata": {
        "id": "xKxK7Rp47H5D",
        "colab_type": "code",
        "outputId": "6cd6ffbc-e6dc-408f-e9ed-9c5e75106286",
        "colab": {
          "base_uri": "https://localhost:8080/",
          "height": 34
        }
      },
      "source": [
        "mse = mean_squared_error(df_test['review_scores_rating'], pred_review_scores_rating)\n",
        "print('Root mean squared error for the test set is ', sqrt(mse))"
      ],
      "execution_count": 0,
      "outputs": [
        {
          "output_type": "stream",
          "text": [
            "Root mean squared error for the test set is  4.617274497057054\n"
          ],
          "name": "stdout"
        }
      ]
    },
    {
      "cell_type": "markdown",
      "metadata": {
        "id": "3gFSsQbhka3o",
        "colab_type": "text"
      },
      "source": [
        "We can visualize the difference between ground truths and predictions. If the histogram of the difference has a gaussian distribution with zero mean and small variance, it indicates that our model has good performance."
      ]
    },
    {
      "cell_type": "code",
      "metadata": {
        "id": "Q1doECoXJO40",
        "colab_type": "code",
        "colab": {}
      },
      "source": [
        "predictions = pd.Series(data=pred_review_scores_rating,index=df_test['review_scores_rating'].index)\n",
        "ground_truth = df_test['review_scores_rating']"
      ],
      "execution_count": 0,
      "outputs": []
    },
    {
      "cell_type": "code",
      "metadata": {
        "id": "5MNCwCVvLzf1",
        "colab_type": "code",
        "outputId": "8f1cee00-1c8b-472e-a0a9-7b04db4249ee",
        "colab": {
          "base_uri": "https://localhost:8080/",
          "height": 336
        }
      },
      "source": [
        "plt.figure(figsize=(10,5))\n",
        "(ground_truth - predictions).hist()\n",
        "plt.title('Difference between ground truth and predictions in test data')\n",
        "plt.show()"
      ],
      "execution_count": 0,
      "outputs": [
        {
          "output_type": "display_data",
          "data": {
            "image/png": "[encoded data removed]",
            "text/plain": [
              "<Figure size 720x360 with 1 Axes>"
            ]
          },
          "metadata": {
            "tags": [],
            "needs_background": "light"
          }
        }
      ]
    },
    {
      "cell_type": "markdown",
      "metadata": {
        "id": "dd5yf7fezqbX",
        "colab_type": "text"
      },
      "source": [
        "Latly, we examine which features are important in predicting review scores. We see that price and zipcode are the most important features for predicting review scores. These two features have highest cardinality. This fact might inflate the importance of the features. \n",
        "Surprisingly, bed type is the least important feature for our model."
      ]
    },
    {
      "cell_type": "code",
      "metadata": {
        "id": "e9RsYNCdkU-V",
        "colab_type": "code",
        "outputId": "c278f8d9-d53e-4ee5-bc80-9b264391f207",
        "colab": {
          "base_uri": "https://localhost:8080/",
          "height": 592
        }
      },
      "source": [
        "feature_importances = rand_search.best_estimator_.feature_importances_\n",
        "feature_importances = pd.Series(feature_importances, index=df_test.drop(columns=['review_scores_rating']).columns)\n",
        "plt.figure(figsize=(10,10))\n",
        "feature_importances.sort_values().plot(kind='barh')\n",
        "plt.show()\n"
      ],
      "execution_count": 0,
      "outputs": [
        {
          "output_type": "display_data",
          "data": {
            "image/png": "[encoded data removed]",
            "text/plain": [
              "<Figure size 720x720 with 1 Axes>"
            ]
          },
          "metadata": {
            "tags": [],
            "needs_background": "light"
          }
        }
      ]
    },
    {
      "cell_type": "code",
      "metadata": {
        "id": "rix3Yg3rV-a7",
        "colab_type": "code",
        "colab": {}
      },
      "source": [
        ""
      ],
      "execution_count": 0,
      "outputs": []
    },
    {
      "cell_type": "code",
      "metadata": {
        "id": "f3v6n0GAnY7T",
        "colab_type": "code",
        "colab": {}
      },
      "source": [
        ""
      ],
      "execution_count": 0,
      "outputs": []
    },
    {
      "cell_type": "code",
      "metadata": {
        "id": "dQDSIysLnZE1",
        "colab_type": "code",
        "colab": {}
      },
      "source": [
        ""
      ],
      "execution_count": 0,
      "outputs": []
    },
    {
      "cell_type": "code",
      "metadata": {
        "id": "Mu-AfzqfnZLR",
        "colab_type": "code",
        "colab": {}
      },
      "source": [
        ""
      ],
      "execution_count": 0,
      "outputs": []
    },
    {
      "cell_type": "markdown",
      "metadata": {
        "id": "DgxshrRFpxR_",
        "colab_type": "text"
      },
      "source": [
        "We repeat the predictive analysis by dummy encoding 'zipcode' and 'neighbourhood_cleansed' columns. In this way, we can see each location's importance in predicting review scores rating."
      ]
    },
    {
      "cell_type": "code",
      "metadata": {
        "id": "3gSVjLAwWat9",
        "colab_type": "code",
        "colab": {}
      },
      "source": [
        "df_review_threshold_dummies = pd.get_dummies(df_review_threshold ,columns=['zipcode','neighbourhood_cleansed'])\n",
        "\n",
        "#initializing GroupShuffleSplit class\n",
        "gss_for_test = GroupShuffleSplit(n_splits=2, train_size=.8, random_state=42)\n",
        "\n",
        "#generating train and test indices\n",
        "train_inds, test_inds = next(gss_for_test.split(df_review_threshold_dummies, groups=df_review_threshold_dummies['host_id']))\n",
        "\n",
        "#obtaining train and test dataframes\n",
        "df_train_dummies, df_test_dummies = df_review_threshold_dummies.iloc[train_inds], df_review_threshold_dummies.iloc[test_inds]"
      ],
      "execution_count": 0,
      "outputs": []
    },
    {
      "cell_type": "code",
      "metadata": {
        "id": "iIuw8XvvWa6r",
        "colab_type": "code",
        "colab": {}
      },
      "source": [
        "gss = GroupShuffleSplit(n_splits=3, random_state=42).split(df_train_dummies, groups=df_train_dummies['host_id'])\n",
        "parameters = {'max_features':max_features, 'max_depth':max_depth, 'n_estimators':n_estimators, 'min_samples_leaf':min_samples_leaf}\n",
        "regr = RandomForestRegressor(random_state=42)\n",
        "rand_search = RandomizedSearchCV(estimator=regr, param_distributions=parameters, cv=gss, n_jobs=-1, n_iter=100)"
      ],
      "execution_count": 0,
      "outputs": []
    },
    {
      "cell_type": "code",
      "metadata": {
        "id": "962caTCQnh1W",
        "colab_type": "code",
        "colab": {}
      },
      "source": [
        "df_train_dummies = df_train_dummies.drop(columns=['host_id'])\n",
        "df_test_dummies = df_test_dummies.drop(columns=['host_id'])"
      ],
      "execution_count": 0,
      "outputs": []
    },
    {
      "cell_type": "code",
      "metadata": {
        "id": "NwguRPzKWbGr",
        "colab_type": "code",
        "outputId": "d713f941-7bca-4f5c-ef7d-1f39386fddfd",
        "colab": {
          "base_uri": "https://localhost:8080/",
          "height": 459
        }
      },
      "source": [
        "rand_search.fit(df_train_dummies.drop(columns=['review_scores_rating']), df_train_dummies['review_scores_rating'])"
      ],
      "execution_count": 0,
      "outputs": [
        {
          "output_type": "execute_result",
          "data": {
            "text/plain": [
              "RandomizedSearchCV(cv=<generator object BaseShuffleSplit.split at 0x7fb715963bf8>,\n",
              "                   error_score=nan,\n",
              "                   estimator=RandomForestRegressor(bootstrap=True,\n",
              "                                                   ccp_alpha=0.0,\n",
              "                                                   criterion='mse',\n",
              "                                                   max_depth=None,\n",
              "                                                   max_features='auto',\n",
              "                                                   max_leaf_nodes=None,\n",
              "                                                   max_samples=None,\n",
              "                                                   min_impurity_decrease=0.0,\n",
              "                                                   min_impurity_split=None,\n",
              "                                                   min_samples_leaf=1,\n",
              "                                                   min_samples_split=2,\n",
              "                                                   min_weight_fractio...\n",
              "                                                   n_jobs=None, oob_score=False,\n",
              "                                                   random_state=42, verbose=0,\n",
              "                                                   warm_start=False),\n",
              "                   iid='deprecated', n_iter=100, n_jobs=-1,\n",
              "                   param_distributions={'max_depth': [10, 20, 30, 40, 50, 60,\n",
              "                                                      70, 80, 90, 100],\n",
              "                                        'max_features': ['auto', 'sqrt'],\n",
              "                                        'min_samples_leaf': [1, 2, 3, 4, 5, 6,\n",
              "                                                             7, 8, 9, 10],\n",
              "                                        'n_estimators': [200]},\n",
              "                   pre_dispatch='2*n_jobs', random_state=None, refit=True,\n",
              "                   return_train_score=False, scoring=None, verbose=0)"
            ]
          },
          "metadata": {
            "tags": []
          },
          "execution_count": 43
        }
      ]
    },
    {
      "cell_type": "code",
      "metadata": {
        "id": "PeYogH1yl1Vb",
        "colab_type": "code",
        "outputId": "74ab52e8-5c52-4f5e-d5a1-237e442a596f",
        "colab": {
          "base_uri": "https://localhost:8080/",
          "height": 85
        }
      },
      "source": [
        "#best hyperparameter setting giving the least mean squared error in cross validation set.\n",
        "rand_search.best_params_"
      ],
      "execution_count": 0,
      "outputs": [
        {
          "output_type": "execute_result",
          "data": {
            "text/plain": [
              "{'max_depth': 30,\n",
              " 'max_features': 'sqrt',\n",
              " 'min_samples_leaf': 2,\n",
              " 'n_estimators': 200}"
            ]
          },
          "metadata": {
            "tags": []
          },
          "execution_count": 44
        }
      ]
    },
    {
      "cell_type": "code",
      "metadata": {
        "id": "dKU3H4Nml1ra",
        "colab_type": "code",
        "colab": {}
      },
      "source": [
        "#predicting the 'review_scores_rating' in test set using the best model. \n",
        "pred_review_scores_rating = rand_search.predict(df_test_dummies.drop(columns=['review_scores_rating']))"
      ],
      "execution_count": 0,
      "outputs": []
    },
    {
      "cell_type": "code",
      "metadata": {
        "id": "7LG42cMIZrbN",
        "colab_type": "code",
        "colab": {}
      },
      "source": [
        "#predicting the 'review_scores_rating' in train set using the best model. \n",
        "pred_train_review_scores_rating = rand_search.predict(df_train_dummies.drop(columns=['review_scores_rating']))"
      ],
      "execution_count": 0,
      "outputs": []
    },
    {
      "cell_type": "code",
      "metadata": {
        "id": "6gpW-HmToUTa",
        "colab_type": "code",
        "outputId": "b7d8e5cc-416e-414b-c8dc-faca3992cd16",
        "colab": {
          "base_uri": "https://localhost:8080/",
          "height": 51
        }
      },
      "source": [
        "mse = mean_squared_error(df_test_dummies['review_scores_rating'], pred_review_scores_rating)\n",
        "print('Root mean squared error for the test set is ', sqrt(mse))\n",
        "\n",
        "mse = mean_squared_error(df_train_dummies['review_scores_rating'], pred_train_review_scores_rating)\n",
        "print('Root mean squared error for the train set is ', sqrt(mse))"
      ],
      "execution_count": 0,
      "outputs": [
        {
          "output_type": "stream",
          "text": [
            "Root mean squared error for the test set is  4.56289860213149\n",
            "Root mean squared error for the train set is  4.180572215942715\n"
          ],
          "name": "stdout"
        }
      ]
    },
    {
      "cell_type": "code",
      "metadata": {
        "id": "jNML6xmqoUbn",
        "colab_type": "code",
        "colab": {}
      },
      "source": [
        "predictions = pd.Series(data=pred_review_scores_rating,index=df_test_dummies['review_scores_rating'].index, name='predictions')\n",
        "ground_truth = df_test_dummies['review_scores_rating']"
      ],
      "execution_count": 0,
      "outputs": []
    },
    {
      "cell_type": "code",
      "metadata": {
        "id": "C04FekzmoUlp",
        "colab_type": "code",
        "outputId": "2bc067d3-03be-4968-8152-47a7f4ef98f6",
        "colab": {
          "base_uri": "https://localhost:8080/",
          "height": 336
        }
      },
      "source": [
        "plt.figure(figsize=(10,5))\n",
        "(ground_truth - predictions).hist()\n",
        "plt.title('Difference between ground truth and predictions in test data')\n",
        "plt.show()"
      ],
      "execution_count": 0,
      "outputs": [
        {
          "output_type": "display_data",
          "data": {
            "image/png": "[encoded data removed]",
            "text/plain": [
              "<Figure size 720x360 with 1 Axes>"
            ]
          },
          "metadata": {
            "tags": [],
            "needs_background": "light"
          }
        }
      ]
    },
    {
      "cell_type": "code",
      "metadata": {
        "id": "a0ZH0yRFo0iy",
        "colab_type": "code",
        "outputId": "de6a2e2e-c066-4ac9-e2dc-7f0c8c4e42cb",
        "colab": {
          "base_uri": "https://localhost:8080/",
          "height": 594
        }
      },
      "source": [
        "feature_importances = rand_search.best_estimator_.feature_importances_\n",
        "feature_importances = pd.Series(feature_importances, index=df_test_dummies.drop(columns=['review_scores_rating']).columns)\n",
        "plt.figure(figsize=(10,10))\n",
        "feature_importances.sort_values().plot(kind='barh')\n",
        "plt.show()"
      ],
      "execution_count": 0,
      "outputs": [
        {
          "output_type": "display_data",
          "data": {
            "image/png": "[encoded data removed]",
            "text/plain": [
              "<Figure size 720x720 with 1 Axes>"
            ]
          },
          "metadata": {
            "tags": [],
            "needs_background": "light"
          }
        }
      ]
    },
    {
      "cell_type": "code",
      "metadata": {
        "id": "1vHSp7q0o0sY",
        "colab_type": "code",
        "outputId": "b54293c6-3968-4c9d-ba8d-71eaa17cbac8",
        "colab": {
          "base_uri": "https://localhost:8080/",
          "height": 592
        }
      },
      "source": [
        "feature_importances = rand_search.best_estimator_.feature_importances_\n",
        "feature_importances = pd.Series(feature_importances, index=df_test_dummies.drop(columns=['review_scores_rating']).columns)\n",
        "plt.figure(figsize=(10,10))\n",
        "feature_importances.nlargest(18).sort_values().plot(kind='barh')\n",
        "plt.show()"
      ],
      "execution_count": 0,
      "outputs": [
        {
          "output_type": "display_data",
          "data": {
            "image/png": "[encoded data removed]",
            "text/plain": [
              "<Figure size 720x720 with 1 Axes>"
            ]
          },
          "metadata": {
            "tags": [],
            "needs_background": "light"
          }
        }
      ]
    },
    {
      "cell_type": "markdown",
      "metadata": {
        "id": "aDmMae2V7l-D",
        "colab_type": "text"
      },
      "source": [
        "Now, we can analyze some of the prominent features such as 'price', 'Washer', 'Patio or balcony' aw well as some features about the location. "
      ]
    },
    {
      "cell_type": "code",
      "metadata": {
        "id": "Kmu26ObS8bKz",
        "colab_type": "code",
        "colab": {}
      },
      "source": [
        ""
      ],
      "execution_count": 0,
      "outputs": []
    },
    {
      "cell_type": "code",
      "metadata": {
        "id": "dcVMKHgM8bPT",
        "colab_type": "code",
        "colab": {}
      },
      "source": [
        ""
      ],
      "execution_count": 0,
      "outputs": []
    },
    {
      "cell_type": "code",
      "metadata": {
        "id": "BCagmz9z8bUv",
        "colab_type": "code",
        "colab": {}
      },
      "source": [
        ""
      ],
      "execution_count": 0,
      "outputs": []
    },
    {
      "cell_type": "code",
      "metadata": {
        "id": "XsOYa-qjDzcY",
        "colab_type": "code",
        "outputId": "7484c60b-0693-4363-e3f3-63732c1d21a7",
        "colab": {
          "base_uri": "https://localhost:8080/",
          "height": 441
        }
      },
      "source": [
        "with sns.axes_style(\"white\"):\n",
        "    \n",
        "    sns.jointplot(x=predictions, y=ground_truth, kind=\"hex\", color='k')\n",
        "    plt.show()"
      ],
      "execution_count": 0,
      "outputs": [
        {
          "output_type": "display_data",
          "data": {
            "image/png": "[encoded data removed]",
            "text/plain": [
              "<Figure size 432x432 with 3 Axes>"
            ]
          },
          "metadata": {
            "tags": []
          }
        }
      ]
    },
    {
      "cell_type": "code",
      "metadata": {
        "id": "Hb4HU3gl7kle",
        "colab_type": "code",
        "colab": {}
      },
      "source": [
        "predictions_train = pd.Series(data=pred_train_review_scores_rating,index=df_train_dummies['review_scores_rating'].index, name='predictions')\n",
        "ground_truth_train = df_train_dummies['review_scores_rating']"
      ],
      "execution_count": 0,
      "outputs": []
    },
    {
      "cell_type": "code",
      "metadata": {
        "id": "QMw0SIVtZF_k",
        "colab_type": "code",
        "outputId": "ae9fecdc-5887-4117-ce0f-0d006a345e4b",
        "colab": {
          "base_uri": "https://localhost:8080/",
          "height": 441
        }
      },
      "source": [
        "with sns.axes_style(\"white\"):\n",
        "    \n",
        "    sns.jointplot(x=predictions_train, y=ground_truth_train, kind=\"hex\", color='k')\n",
        "    plt.show()"
      ],
      "execution_count": 0,
      "outputs": [
        {
          "output_type": "display_data",
          "data": {
            "image/png": "[encoded data removed]",
            "text/plain": [
              "<Figure size 432x432 with 3 Axes>"
            ]
          },
          "metadata": {
            "tags": []
          }
        }
      ]
    },
    {
      "cell_type": "code",
      "metadata": {
        "id": "u6MmynLlaYq4",
        "colab_type": "code",
        "colab": {}
      },
      "source": [
        ""
      ],
      "execution_count": 0,
      "outputs": []
    },
    {
      "cell_type": "code",
      "metadata": {
        "id": "z4oM5ZgD_V8Q",
        "colab_type": "code",
        "colab": {}
      },
      "source": [
        ""
      ],
      "execution_count": 0,
      "outputs": []
    },
    {
      "cell_type": "markdown",
      "metadata": {
        "id": "DGE7-O6_AhUg",
        "colab_type": "text"
      },
      "source": [
        "Now we will use linear regression model to predict 'review_scores_rating' and examine the important features."
      ]
    },
    {
      "cell_type": "code",
      "metadata": {
        "id": "WPN78u1p_V0t",
        "colab_type": "code",
        "colab": {}
      },
      "source": [
        "df_review_threshold_dummies = pd.get_dummies(df_review_threshold ,columns=['zipcode','neighbourhood_cleansed','bathrooms','bedrooms','bed_type'])\n",
        "\n",
        "#initializing GroupShuffleSplit class\n",
        "gss_for_test = GroupShuffleSplit(n_splits=2, train_size=.8, random_state=42)\n",
        "\n",
        "#generating train and test indices\n",
        "train_inds, test_inds = next(gss_for_test.split(df_review_threshold_dummies, groups=df_review_threshold_dummies['host_id']))\n",
        "\n",
        "#obtaining train and test dataframes\n",
        "df_train_dummies, df_test_dummies = df_review_threshold_dummies.iloc[train_inds], df_review_threshold_dummies.iloc[test_inds]"
      ],
      "execution_count": 0,
      "outputs": []
    },
    {
      "cell_type": "code",
      "metadata": {
        "id": "8lw6iI2jVQdJ",
        "colab_type": "code",
        "colab": {}
      },
      "source": [
        "# Setting candidates for some hyperparameters, these hyperparameters are the most important ones for randomforest regressor. \n",
        "# They can help reducing overfitting if tuned properly.\n",
        "normalize_list = [True, False]\n",
        "alpha_list = [int(x) for x in np.linspace(0, 10, num = 100)]\n",
        "l1_ratio_list = [int(x) for x in np.linspace(0, 1, num = 100)]"
      ],
      "execution_count": 0,
      "outputs": []
    },
    {
      "cell_type": "code",
      "metadata": {
        "id": "F1atWDO9_cy0",
        "colab_type": "code",
        "colab": {}
      },
      "source": [
        "gss = GroupShuffleSplit(n_splits=3, random_state=42).split(df_train_dummies, groups=df_train_dummies['host_id'])\n",
        "parameters = {'normalize':normalize_list, 'alpha':alpha_list, 'l1_ratio':l1_ratio_list}\n",
        "regr = ElasticNet(max_iter=10000, random_state=42)\n",
        "rand_search = RandomizedSearchCV(estimator=regr, param_distributions=parameters, cv=gss, n_jobs=-1, n_iter=100)"
      ],
      "execution_count": 0,
      "outputs": []
    },
    {
      "cell_type": "code",
      "metadata": {
        "id": "1ONTDwyH_c_O",
        "colab_type": "code",
        "colab": {}
      },
      "source": [
        "df_train_dummies = df_train_dummies.drop(columns=['host_id'])\n",
        "df_test_dummies = df_test_dummies.drop(columns=['host_id'])"
      ],
      "execution_count": 0,
      "outputs": []
    },
    {
      "cell_type": "code",
      "metadata": {
        "id": "qMm4r7sI_dKd",
        "colab_type": "code",
        "colab": {
          "base_uri": "https://localhost:8080/",
          "height": 462
        },
        "outputId": "e24eaa8c-d6b3-417b-e714-8bc1446e4e3b"
      },
      "source": [
        "rand_search.fit(df_train_dummies.drop(columns=['review_scores_rating']), df_train_dummies['review_scores_rating'])"
      ],
      "execution_count": 92,
      "outputs": [
        {
          "output_type": "stream",
          "text": [
            "/usr/local/lib/python3.6/dist-packages/sklearn/model_selection/_search.py:739: UserWarning: With alpha=0, this algorithm does not converge well. You are advised to use the LinearRegression estimator\n",
            "  self.best_estimator_.fit(X, y, **fit_params)\n",
            "/usr/local/lib/python3.6/dist-packages/sklearn/linear_model/_coordinate_descent.py:476: UserWarning: Coordinate descent with no regularization may lead to unexpected results and is discouraged.\n",
            "  positive)\n",
            "/usr/local/lib/python3.6/dist-packages/sklearn/linear_model/_coordinate_descent.py:476: ConvergenceWarning: Objective did not converge. You might want to increase the number of iterations. Duality gap: 33260.95429213953, tolerance: 8.921810686057544\n",
            "  positive)\n"
          ],
          "name": "stderr"
        },
        {
          "output_type": "execute_result",
          "data": {
            "text/plain": [
              "RandomizedSearchCV(cv=<generator object BaseShuffleSplit.split at 0x7fb71302bba0>,\n",
              "                   error_score=nan,\n",
              "                   estimator=ElasticNet(alpha=1.0, copy_X=True,\n",
              "                                        fit_intercept=True, l1_ratio=0.5,\n",
              "                                        max_iter=10000, normalize=False,\n",
              "                                        positive=False, precompute=False,\n",
              "                                        random_state=42, selection='cyclic',\n",
              "                                        tol=0.0001, warm_start=False),\n",
              "                   iid='deprecated', n_iter=100, n_jobs=-1,\n",
              "                   param_distributions={'alpha': [0, 0, 0, 0, 0, 0, 0, 0, 0, 0,\n",
              "                                                  1, 1, 1, 1, 1, 1, 1, 1, 1, 1,\n",
              "                                                  2, 2, 2, 2, 2, 2, 2, 2, 2, 2, ...],\n",
              "                                        'l1_ratio': [0, 0, 0, 0, 0, 0, 0, 0, 0,\n",
              "                                                     0, 0, 0, 0, 0, 0, 0, 0, 0,\n",
              "                                                     0, 0, 0, 0, 0, 0, 0, 0, 0,\n",
              "                                                     0, 0, 0, ...],\n",
              "                                        'normalize': [True, False]},\n",
              "                   pre_dispatch='2*n_jobs', random_state=None, refit=True,\n",
              "                   return_train_score=False, scoring=None, verbose=0)"
            ]
          },
          "metadata": {
            "tags": []
          },
          "execution_count": 92
        }
      ]
    },
    {
      "cell_type": "code",
      "metadata": {
        "id": "tgwt9IxJ_dUz",
        "colab_type": "code",
        "colab": {
          "base_uri": "https://localhost:8080/",
          "height": 34
        },
        "outputId": "27e54a4f-bfd7-4a7e-8325-9e2e892cc280"
      },
      "source": [
        "#best hyperparameter setting giving the least mean squared error in cross validation set.\n",
        "rand_search.best_params_"
      ],
      "execution_count": 93,
      "outputs": [
        {
          "output_type": "execute_result",
          "data": {
            "text/plain": [
              "{'alpha': 0, 'l1_ratio': 0, 'normalize': False}"
            ]
          },
          "metadata": {
            "tags": []
          },
          "execution_count": 93
        }
      ]
    },
    {
      "cell_type": "code",
      "metadata": {
        "id": "GYEmBkpS_dgV",
        "colab_type": "code",
        "colab": {}
      },
      "source": [
        "#predicting the 'review_scores_rating' in test set using the best model. \n",
        "pred_review_scores_rating = rand_search.predict(df_test_dummies.drop(columns=['review_scores_rating']))"
      ],
      "execution_count": 0,
      "outputs": []
    },
    {
      "cell_type": "code",
      "metadata": {
        "id": "4Ml17lwa_3cZ",
        "colab_type": "code",
        "colab": {}
      },
      "source": [
        "#predicting the 'review_scores_rating' in train set using the best model. \n",
        "pred_train_review_scores_rating = rand_search.predict(df_train_dummies.drop(columns=['review_scores_rating']))"
      ],
      "execution_count": 0,
      "outputs": []
    },
    {
      "cell_type": "code",
      "metadata": {
        "id": "Tffpewgq_3rH",
        "colab_type": "code",
        "colab": {
          "base_uri": "https://localhost:8080/",
          "height": 51
        },
        "outputId": "ba27b13e-a571-4f13-f29c-2b54d52c264a"
      },
      "source": [
        "mse = mean_squared_error(df_test_dummies['review_scores_rating'], pred_review_scores_rating)\n",
        "print('Root mean squared error for the test set is ', sqrt(mse))\n",
        "\n",
        "mse = mean_squared_error(df_train_dummies['review_scores_rating'], pred_train_review_scores_rating)\n",
        "print('Root mean squared error for the train set is ', sqrt(mse))"
      ],
      "execution_count": 96,
      "outputs": [
        {
          "output_type": "stream",
          "text": [
            "Root mean squared error for the test set is  4.848524088060326\n",
            "Root mean squared error for the train set is  4.585986316782503\n"
          ],
          "name": "stdout"
        }
      ]
    },
    {
      "cell_type": "code",
      "metadata": {
        "id": "KPqO4Y-X_31k",
        "colab_type": "code",
        "colab": {}
      },
      "source": [
        "predictions = pd.Series(data=pred_review_scores_rating,index=df_test_dummies['review_scores_rating'].index, name='predictions')\n",
        "ground_truth = df_test_dummies['review_scores_rating']"
      ],
      "execution_count": 0,
      "outputs": []
    },
    {
      "cell_type": "code",
      "metadata": {
        "id": "QCq6tUeQ_4Ag",
        "colab_type": "code",
        "colab": {
          "base_uri": "https://localhost:8080/",
          "height": 336
        },
        "outputId": "646e4537-1949-4855-bc8c-2796c2fd0662"
      },
      "source": [
        "plt.figure(figsize=(10,5))\n",
        "(ground_truth - predictions).hist()\n",
        "plt.title('Difference between ground truth and predictions in test data')\n",
        "plt.show()"
      ],
      "execution_count": 98,
      "outputs": [
        {
          "output_type": "display_data",
          "data": {
            "image/png": "[encoded data removed]",
            "text/plain": [
              "<Figure size 720x360 with 1 Axes>"
            ]
          },
          "metadata": {
            "tags": [],
            "needs_background": "light"
          }
        }
      ]
    },
    {
      "cell_type": "code",
      "metadata": {
        "id": "uwYZi57TAMiv",
        "colab_type": "code",
        "colab": {
          "base_uri": "https://localhost:8080/",
          "height": 595
        },
        "outputId": "fcfc7696-b4f5-4e43-9141-f84394056b5a"
      },
      "source": [
        "feature_importances = rand_search.best_estimator_.coef_\n",
        "\n",
        "feature_importances = pd.Series(feature_importances, index=df_test_dummies.drop(columns=['review_scores_rating']).columns)\n",
        "plt.figure(figsize=(10,10))\n",
        "feature_importances.sort_values().plot(kind='barh')\n",
        "plt.show()\n"
      ],
      "execution_count": 99,
      "outputs": [
        {
          "output_type": "display_data",
          "data": {
            "image/png": "[encoded data removed]",
            "text/plain": [
              "<Figure size 720x720 with 1 Axes>"
            ]
          },
          "metadata": {
            "tags": [],
            "needs_background": "light"
          }
        }
      ]
    },
    {
      "cell_type": "code",
      "metadata": {
        "id": "jv4a0xpDAMrn",
        "colab_type": "code",
        "colab": {
          "base_uri": "https://localhost:8080/",
          "height": 592
        },
        "outputId": "34827e8f-078d-442b-f2d6-2844b05191dd"
      },
      "source": [
        "feature_importances = rand_search.best_estimator_.coef_\n",
        "feature_importances = pd.Series(feature_importances, index=df_test_dummies.drop(columns=['review_scores_rating']).columns)\n",
        "plt.figure(figsize=(10,10))\n",
        "feature_importances.nlargest(18).sort_values().plot(kind='barh')\n",
        "plt.show()"
      ],
      "execution_count": 100,
      "outputs": [
        {
          "output_type": "display_data",
          "data": {
            "image/png": "[encoded data removed]",
            "text/plain": [
              "<Figure size 720x720 with 1 Axes>"
            ]
          },
          "metadata": {
            "tags": [],
            "needs_background": "light"
          }
        }
      ]
    },
    {
      "cell_type": "code",
      "metadata": {
        "id": "v1qzsBD-Y_Fk",
        "colab_type": "code",
        "colab": {
          "base_uri": "https://localhost:8080/",
          "height": 592
        },
        "outputId": "d4e70edd-f312-4244-80e7-9f49dfd0afe6"
      },
      "source": [
        "feature_importances = rand_search.best_estimator_.coef_\n",
        "feature_importances = pd.Series(feature_importances, index=df_test_dummies.drop(columns=['review_scores_rating']).columns)\n",
        "plt.figure(figsize=(10,10))\n",
        "feature_importances.nsmallest(18).sort_values().plot(kind='barh')\n",
        "plt.show()"
      ],
      "execution_count": 101,
      "outputs": [
        {
          "output_type": "display_data",
          "data": {
            "image/png": "[encoded data removed]",
            "text/plain": [
              "<Figure size 720x720 with 1 Axes>"
            ]
          },
          "metadata": {
            "tags": [],
            "needs_background": "light"
          }
        }
      ]
    },
    {
      "cell_type": "code",
      "metadata": {
        "id": "2az-X0p9AMyt",
        "colab_type": "code",
        "colab": {
          "base_uri": "https://localhost:8080/",
          "height": 441
        },
        "outputId": "e6d8ec55-0c97-410d-b77c-8806af0fb06d"
      },
      "source": [
        "with sns.axes_style(\"white\"):\n",
        "    \n",
        "    sns.jointplot(x=predictions, y=ground_truth, kind=\"hex\", color='k')\n",
        "    plt.show()"
      ],
      "execution_count": 104,
      "outputs": [
        {
          "output_type": "display_data",
          "data": {
            "image/png": "[encoded data removed]",
            "text/plain": [
              "<Figure size 432x432 with 3 Axes>"
            ]
          },
          "metadata": {
            "tags": []
          }
        }
      ]
    },
    {
      "cell_type": "code",
      "metadata": {
        "id": "AY8Di4kwAM65",
        "colab_type": "code",
        "colab": {}
      },
      "source": [
        ""
      ],
      "execution_count": 0,
      "outputs": []
    },
    {
      "cell_type": "code",
      "metadata": {
        "id": "-KavPlF-_drB",
        "colab_type": "code",
        "colab": {}
      },
      "source": [
        ""
      ],
      "execution_count": 0,
      "outputs": []
    }
  ]
}